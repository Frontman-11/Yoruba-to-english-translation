{
 "cells": [
  {
   "cell_type": "code",
   "execution_count": null,
   "id": "d5b4df68",
   "metadata": {
    "_cell_guid": "040a8fb6-a3ea-4ec2-a6be-7b80d5c3ab15",
    "_uuid": "3c864734-9834-4b31-9828-331b03931369",
    "collapsed": false,
    "execution": {
     "iopub.execute_input": "2025-05-18T23:24:05.118993Z",
     "iopub.status.busy": "2025-05-18T23:24:05.118224Z",
     "iopub.status.idle": "2025-05-18T23:24:20.437579Z",
     "shell.execute_reply": "2025-05-18T23:24:20.436512Z"
    },
    "jupyter": {
     "outputs_hidden": false
    },
    "papermill": {
     "duration": 15.325331,
     "end_time": "2025-05-18T23:24:20.439319",
     "exception": false,
     "start_time": "2025-05-18T23:24:05.113988",
     "status": "completed"
    },
    "tags": []
   },
   "outputs": [
    {
     "name": "stderr",
     "output_type": "stream",
     "text": [
      "2025-05-18 23:24:08.185640: E external/local_xla/xla/stream_executor/cuda/cuda_fft.cc:477] Unable to register cuFFT factory: Attempting to register factory for plugin cuFFT when one has already been registered\n",
      "WARNING: All log messages before absl::InitializeLog() is called are written to STDERR\n",
      "E0000 00:00:1747610648.342429      19 cuda_dnn.cc:8310] Unable to register cuDNN factory: Attempting to register factory for plugin cuDNN when one has already been registered\n",
      "E0000 00:00:1747610648.389944      19 cuda_blas.cc:1418] Unable to register cuBLAS factory: Attempting to register factory for plugin cuBLAS when one has already been registered\n"
     ]
    }
   ],
   "source": [
    "import sys\n",
    "import keras\n",
    "import numpy as np\n",
    "import pandas as pd\n",
    "import tensorflow as tf\n",
    "from read_file import ReadFile\n",
    "from schedule import CustomSchedule\n",
    "from transformer import Transformer\n",
    "from tokenizer import FrontmanTokenizer\n",
    "from metrics import masked_loss, masked_accuracy"
   ]
  },
  {
   "cell_type": "code",
   "execution_count": 3,
   "id": "db7d96ef",
   "metadata": {
    "execution": {
     "iopub.execute_input": "2025-05-18T23:24:20.454684Z",
     "iopub.status.busy": "2025-05-18T23:24:20.454029Z",
     "iopub.status.idle": "2025-05-18T23:24:20.459390Z",
     "shell.execute_reply": "2025-05-18T23:24:20.458643Z"
    },
    "papermill": {
     "duration": 0.014264,
     "end_time": "2025-05-18T23:24:20.460922",
     "exception": false,
     "start_time": "2025-05-18T23:24:20.446658",
     "status": "completed"
    },
    "tags": []
   },
   "outputs": [],
   "source": [
    "seed = 42\n",
    "tf.random.set_seed(seed)\n",
    "np.random.seed(seed)"
   ]
  },
  {
   "cell_type": "code",
   "execution_count": 4,
   "id": "9338b44a",
   "metadata": {
    "execution": {
     "iopub.execute_input": "2025-05-18T23:24:20.470608Z",
     "iopub.status.busy": "2025-05-18T23:24:20.470265Z",
     "iopub.status.idle": "2025-05-18T23:24:20.474026Z",
     "shell.execute_reply": "2025-05-18T23:24:20.473401Z"
    },
    "papermill": {
     "duration": 0.010163,
     "end_time": "2025-05-18T23:24:20.475654",
     "exception": false,
     "start_time": "2025-05-18T23:24:20.465491",
     "status": "completed"
    },
    "tags": []
   },
   "outputs": [],
   "source": [
    "# tf.config.run_functions_eagerly(True)\n",
    "# tf.data.experimental.enable_debug_mode()"
   ]
  },
  {
   "cell_type": "code",
   "execution_count": 5,
   "id": "88765331",
   "metadata": {
    "_cell_guid": "92d9d96c-fac3-4019-97e0-413a5271459c",
    "_uuid": "9192ff50-ef08-48b9-bd03-37f3ea088e2c",
    "collapsed": false,
    "execution": {
     "iopub.execute_input": "2025-05-18T23:24:20.486822Z",
     "iopub.status.busy": "2025-05-18T23:24:20.486401Z",
     "iopub.status.idle": "2025-05-18T23:24:20.490294Z",
     "shell.execute_reply": "2025-05-18T23:24:20.489572Z"
    },
    "jupyter": {
     "outputs_hidden": false
    },
    "papermill": {
     "duration": 0.009928,
     "end_time": "2025-05-18T23:24:20.491283",
     "exception": false,
     "start_time": "2025-05-18T23:24:20.481355",
     "status": "completed"
    },
    "tags": []
   },
   "outputs": [
    {
     "name": "stdout",
     "output_type": "stream",
     "text": [
      "Tensorflow version: 2.18.0\n",
      "Python version: 3.11.11 (main, Dec  4 2024, 08:55:07) [GCC 11.4.0]\n"
     ]
    }
   ],
   "source": [
    "print(f'Tensorflow version: {tf.__version__}')\n",
    "print(f'Python version: {sys.version}')"
   ]
  },
  {
   "cell_type": "markdown",
   "id": "bae0a614",
   "metadata": {
    "papermill": {
     "duration": 0.003095,
     "end_time": "2025-05-18T23:24:20.497628",
     "exception": false,
     "start_time": "2025-05-18T23:24:20.494533",
     "status": "completed"
    },
    "tags": []
   },
   "source": [
    "Tensorflow version: 2.17.1\n",
    "\n",
    "\n",
    "Python version: 3.10.12 (main, Nov  6 2024, 20:22:13) [GCC 11.4.0]"
   ]
  },
  {
   "cell_type": "code",
   "execution_count": null,
   "id": "f4e6f9f0",
   "metadata": {
    "execution": {
     "iopub.execute_input": "2025-05-18T23:24:20.504880Z",
     "iopub.status.busy": "2025-05-18T23:24:20.504687Z",
     "iopub.status.idle": "2025-05-18T23:24:29.365814Z",
     "shell.execute_reply": "2025-05-18T23:24:29.364934Z"
    },
    "papermill": {
     "duration": 8.866388,
     "end_time": "2025-05-18T23:24:29.367323",
     "exception": false,
     "start_time": "2025-05-18T23:24:20.500935",
     "status": "completed"
    },
    "tags": []
   },
   "outputs": [],
   "source": [
    "# GNOME_file = 'data/train/GNOME_yo_en.tsv'  \n",
    "\n",
    "opus_file = 'data/train/opus_yo_en.tsv'        \n",
    "raw_file = 'data/raw_yo_en.tsv'                \n",
    "JW300 = 'data/JW300_en-yo.csv'                 \n",
    "bible = 'data/train/bible_yo_en.csv'           \n",
    "Government = 'data/Train.csv'                  \n",
    "\n",
    "reader = ReadFile(dropna=True, drop_duplicates=True)\n",
    "\n",
    "train_df, valid_df= reader.read_file([Government, opus_file, raw_file, bible, JW300],\n",
    "                                     delimiter=',',\n",
    "                                     shuffle=True, \n",
    "                                     split_ratio=0.1)\n",
    "\n",
    "train_df = reader.shuffle_df(train_df)"
   ]
  },
  {
   "cell_type": "code",
   "execution_count": 7,
   "id": "59f38137",
   "metadata": {
    "execution": {
     "iopub.execute_input": "2025-05-18T23:24:29.375385Z",
     "iopub.status.busy": "2025-05-18T23:24:29.375139Z",
     "iopub.status.idle": "2025-05-18T23:24:29.394245Z",
     "shell.execute_reply": "2025-05-18T23:24:29.393597Z"
    },
    "papermill": {
     "duration": 0.024445,
     "end_time": "2025-05-18T23:24:29.395458",
     "exception": false,
     "start_time": "2025-05-18T23:24:29.371013",
     "status": "completed"
    },
    "tags": []
   },
   "outputs": [
    {
     "data": {
      "text/html": [
       "<div>\n",
       "<style scoped>\n",
       "    .dataframe tbody tr th:only-of-type {\n",
       "        vertical-align: middle;\n",
       "    }\n",
       "\n",
       "    .dataframe tbody tr th {\n",
       "        vertical-align: top;\n",
       "    }\n",
       "\n",
       "    .dataframe thead th {\n",
       "        text-align: right;\n",
       "    }\n",
       "</style>\n",
       "<table border=\"1\" class=\"dataframe\">\n",
       "  <thead>\n",
       "    <tr style=\"text-align: right;\">\n",
       "      <th></th>\n",
       "      <th>Yoruba</th>\n",
       "      <th>English</th>\n",
       "    </tr>\n",
       "  </thead>\n",
       "  <tbody>\n",
       "    <tr>\n",
       "      <th>0</th>\n",
       "      <td>Pọ́ọ̀lù sọ pé: “A ti gbé Kristi dìde kúrò nínú...</td>\n",
       "      <td>Paul wrote that “Christ has been raised from t...</td>\n",
       "    </tr>\n",
       "    <tr>\n",
       "      <th>1</th>\n",
       "      <td>Fún àlàyé síwájú sí i lórí ìgbàgbọ́ Tertullian...</td>\n",
       "      <td>For further information on Tertullian’s belief...</td>\n",
       "    </tr>\n",
       "    <tr>\n",
       "      <th>2</th>\n",
       "      <td>Torí náà, a ronú pé ó yẹ ká kọ́kọ́ tọ́jú owó p...</td>\n",
       "      <td>It was then that we had the discussion with th...</td>\n",
       "    </tr>\n",
       "    <tr>\n",
       "      <th>3</th>\n",
       "      <td>Bermuda amends ile-ifowopamọ igbese lati se oj...</td>\n",
       "      <td>Bermuda amends banking act to favor blockchain...</td>\n",
       "    </tr>\n",
       "    <tr>\n",
       "      <th>4</th>\n",
       "      <td>littlehorn wí pé</td>\n",
       "      <td>littlehorn says</td>\n",
       "    </tr>\n",
       "    <tr>\n",
       "      <th>...</th>\n",
       "      <td>...</td>\n",
       "      <td>...</td>\n",
       "    </tr>\n",
       "    <tr>\n",
       "      <th>541859</th>\n",
       "      <td>Gbogbo ẹ niyẹn. gbadun Iwakọ Booster Pro &lt;UNK&gt;...</td>\n",
       "      <td>That’s all. Enjoy Driver Booster Pro &lt;UNK&gt;Full...</td>\n",
       "    </tr>\n",
       "    <tr>\n",
       "      <th>541860</th>\n",
       "      <td>Àìjẹ́ bẹ́ẹ̀, ìṣòro wa lè gbà wá lọ́kàn débi pé...</td>\n",
       "      <td>Otherwise, personal problems may cloud our spi...</td>\n",
       "    </tr>\n",
       "    <tr>\n",
       "      <th>541861</th>\n",
       "      <td>Òun àti Anny ìyàwó rẹ̀, àtàwọn ọmọbìnrin wọn m...</td>\n",
       "      <td>He and his wife, Anny, often served as auxilia...</td>\n",
       "    </tr>\n",
       "    <tr>\n",
       "      <th>541862</th>\n",
       "      <td>Ẹ gbọ́ ọ̀rọ̀ ẹnu mi ní ìfarabalẹ̀, jẹ́ kí ọ̀rọ...</td>\n",
       "      <td>Listen carefully to my speech, And to my decla...</td>\n",
       "    </tr>\n",
       "    <tr>\n",
       "      <th>541863</th>\n",
       "      <td>Ṣe akanṣe</td>\n",
       "      <td>{description}</td>\n",
       "    </tr>\n",
       "  </tbody>\n",
       "</table>\n",
       "<p>541864 rows × 2 columns</p>\n",
       "</div>"
      ],
      "text/plain": [
       "                                                   Yoruba  \\\n",
       "0       Pọ́ọ̀lù sọ pé: “A ti gbé Kristi dìde kúrò nínú...   \n",
       "1       Fún àlàyé síwájú sí i lórí ìgbàgbọ́ Tertullian...   \n",
       "2       Torí náà, a ronú pé ó yẹ ká kọ́kọ́ tọ́jú owó p...   \n",
       "3       Bermuda amends ile-ifowopamọ igbese lati se oj...   \n",
       "4                                        littlehorn wí pé   \n",
       "...                                                   ...   \n",
       "541859  Gbogbo ẹ niyẹn. gbadun Iwakọ Booster Pro <UNK>...   \n",
       "541860  Àìjẹ́ bẹ́ẹ̀, ìṣòro wa lè gbà wá lọ́kàn débi pé...   \n",
       "541861  Òun àti Anny ìyàwó rẹ̀, àtàwọn ọmọbìnrin wọn m...   \n",
       "541862  Ẹ gbọ́ ọ̀rọ̀ ẹnu mi ní ìfarabalẹ̀, jẹ́ kí ọ̀rọ...   \n",
       "541863                                          Ṣe akanṣe   \n",
       "\n",
       "                                                  English  \n",
       "0       Paul wrote that “Christ has been raised from t...  \n",
       "1       For further information on Tertullian’s belief...  \n",
       "2       It was then that we had the discussion with th...  \n",
       "3       Bermuda amends banking act to favor blockchain...  \n",
       "4                                         littlehorn says  \n",
       "...                                                   ...  \n",
       "541859  That’s all. Enjoy Driver Booster Pro <UNK>Full...  \n",
       "541860  Otherwise, personal problems may cloud our spi...  \n",
       "541861  He and his wife, Anny, often served as auxilia...  \n",
       "541862  Listen carefully to my speech, And to my decla...  \n",
       "541863                                      {description}  \n",
       "\n",
       "[541864 rows x 2 columns]"
      ]
     },
     "execution_count": 7,
     "metadata": {},
     "output_type": "execute_result"
    }
   ],
   "source": [
    "train_df"
   ]
  },
  {
   "cell_type": "code",
   "execution_count": null,
   "id": "da4b4e42",
   "metadata": {
    "execution": {
     "iopub.execute_input": "2025-05-18T23:24:29.404291Z",
     "iopub.status.busy": "2025-05-18T23:24:29.403810Z",
     "iopub.status.idle": "2025-05-18T23:24:29.449690Z",
     "shell.execute_reply": "2025-05-18T23:24:29.448978Z"
    },
    "papermill": {
     "duration": 0.051534,
     "end_time": "2025-05-18T23:24:29.450919",
     "exception": false,
     "start_time": "2025-05-18T23:24:29.399385",
     "status": "completed"
    },
    "tags": []
   },
   "outputs": [],
   "source": [
    "tokenizer = FrontmanTokenizer(model_path='tokenizer/model/yo_en_bpe.model')"
   ]
  },
  {
   "cell_type": "code",
   "execution_count": null,
   "id": "2b3a2770",
   "metadata": {
    "_cell_guid": "1056efdd-976e-4cf7-a07e-1af6366b5e75",
    "_uuid": "6bd06057-d751-4234-8e00-fba5744e6677",
    "collapsed": false,
    "execution": {
     "iopub.execute_input": "2025-05-18T23:24:29.460268Z",
     "iopub.status.busy": "2025-05-18T23:24:29.459530Z",
     "iopub.status.idle": "2025-05-18T23:24:29.467772Z",
     "shell.execute_reply": "2025-05-18T23:24:29.467151Z"
    },
    "jupyter": {
     "outputs_hidden": false
    },
    "papermill": {
     "duration": 0.013882,
     "end_time": "2025-05-18T23:24:29.468818",
     "exception": false,
     "start_time": "2025-05-18T23:24:29.454936",
     "status": "completed"
    },
    "tags": []
   },
   "outputs": [],
   "source": [
    "def create_dataset(df, tokenizer, max_length=128, batch_size=128, drop_remainder=False, shuffle_size=False, cache=False):\n",
    "    \n",
    "    encoder_input = tokenizer.special_encode(\n",
    "        df['Yoruba'].values.tolist(),       # English for English to Yoruba training\n",
    "        max_length=max_length,\n",
    "        truncation=True,\n",
    "        padding=True\n",
    "    )\n",
    "    \n",
    "    decoder_input = tokenizer.special_encode(\n",
    "        df['English'].values.tolist(),      # Yoruba for Yoruba to English training \n",
    "        max_length=max_length,\n",
    "        truncation=True,\n",
    "        padding=True,\n",
    "        add_bos=True\n",
    "    )\n",
    "\n",
    "    decoder_target= tokenizer.special_encode(\n",
    "        df['English'].values.tolist(),      # Yoruba for Yoruba to English training \n",
    "        max_length=max_length,\n",
    "        truncation=True,\n",
    "        padding=True,\n",
    "        add_eos=True\n",
    "    )\n",
    "    \n",
    "    dataset = tf.data.Dataset.from_tensor_slices(((\n",
    "        encoder_input,\n",
    "        decoder_input,\n",
    "        ),\n",
    "        decoder_target\n",
    "        )\n",
    "    )\n",
    "    \n",
    "    # dataset = tf.data.Dataset.from_tensor_slices((({\n",
    "    #     \"encoder_input_ids\": encoder_input['input_ids'],\n",
    "    #     \"encoder_attention_mask\": encoder_input['attention_mask'],\n",
    "    #     \"decoder_input_ids\": decoder_input['input_ids'],\n",
    "    #     \"decoder_attention_mask\": decoder_input['attention_mask'],}\n",
    "    #     ),\n",
    "    #     decoder_target\n",
    "    #     )\n",
    "    # )\n",
    "\n",
    "    if cache:\n",
    "        dataset = dataset.cache()\n",
    "        \n",
    "    if shuffle_size:\n",
    "        dataset = dataset.shuffle(shuffle_size)\n",
    "        \n",
    "    if batch_size:\n",
    "        dataset = dataset.batch(batch_size, drop_remainder=drop_remainder)\n",
    "\n",
    "    return dataset.prefetch(tf.data.AUTOTUNE)"
   ]
  },
  {
   "cell_type": "code",
   "execution_count": 10,
   "id": "cf54880b",
   "metadata": {
    "execution": {
     "iopub.execute_input": "2025-05-18T23:24:29.476932Z",
     "iopub.status.busy": "2025-05-18T23:24:29.476400Z",
     "iopub.status.idle": "2025-05-18T23:25:20.260961Z",
     "shell.execute_reply": "2025-05-18T23:25:20.260199Z"
    },
    "papermill": {
     "duration": 50.792644,
     "end_time": "2025-05-18T23:25:20.264967",
     "exception": false,
     "start_time": "2025-05-18T23:24:29.472323",
     "status": "completed"
    },
    "tags": []
   },
   "outputs": [
    {
     "name": "stderr",
     "output_type": "stream",
     "text": [
      "I0000 00:00:1747610685.877050      19 gpu_device.cc:2022] Created device /job:localhost/replica:0/task:0/device:GPU:0 with 15513 MB memory:  -> device: 0, name: Tesla P100-PCIE-16GB, pci bus id: 0000:00:04.0, compute capability: 6.0\n"
     ]
    },
    {
     "data": {
      "text/plain": [
       "<_PrefetchDataset element_spec=((TensorSpec(shape=(None, 128), dtype=tf.int32, name=None), TensorSpec(shape=(None, 128), dtype=tf.int32, name=None)), TensorSpec(shape=(None, 128), dtype=tf.int32, name=None))>"
      ]
     },
     "execution_count": 10,
     "metadata": {},
     "output_type": "execute_result"
    }
   ],
   "source": [
    "train_set = create_dataset(\n",
    "    df=train_df,\n",
    "    tokenizer=tokenizer,\n",
    "    shuffle_size=100_000,\n",
    "    cache=True\n",
    ")\n",
    "\n",
    "valid_set = create_dataset(\n",
    "    df=valid_df,\n",
    "    tokenizer=tokenizer,\n",
    "    cache=True\n",
    ")\n",
    "\n",
    "train_set"
   ]
  },
  {
   "cell_type": "code",
   "execution_count": 11,
   "id": "454f38d0",
   "metadata": {
    "execution": {
     "iopub.execute_input": "2025-05-18T23:25:20.274285Z",
     "iopub.status.busy": "2025-05-18T23:25:20.273783Z",
     "iopub.status.idle": "2025-05-18T23:25:20.396568Z",
     "shell.execute_reply": "2025-05-18T23:25:20.395973Z"
    },
    "papermill": {
     "duration": 0.128398,
     "end_time": "2025-05-18T23:25:20.397837",
     "exception": false,
     "start_time": "2025-05-18T23:25:20.269439",
     "status": "completed"
    },
    "tags": []
   },
   "outputs": [],
   "source": [
    "N = 4\n",
    "d_model = 128\n",
    "d_ffn = 512\n",
    "num_heads = 8\n",
    "dropout_rate = 0.2\n",
    "\n",
    "\n",
    "model = Transformer(\n",
    "    N=N,\n",
    "    d_ffn=d_ffn,\n",
    "    d_model=d_model,\n",
    "    num_heads=num_heads,\n",
    "    dropout_rate=dropout_rate,\n",
    "    input_vocab_size=tokenizer.get_piece_size(),\n",
    "    target_vocab_size=tokenizer.get_piece_size())\n",
    "\n",
    "\n",
    "learning_rate = CustomSchedule(d_model)\n",
    "\n",
    "optimizer = tf.keras.optimizers.Adam(learning_rate, beta_1=0.9, beta_2=0.98,\n",
    "                                     epsilon=1e-9)\n",
    "\n",
    "\n",
    "model.compile(\n",
    "    loss=masked_loss,\n",
    "    optimizer=optimizer,\n",
    "    metrics=[masked_accuracy])"
   ]
  },
  {
   "cell_type": "code",
   "execution_count": null,
   "id": "6cd7e16f",
   "metadata": {
    "execution": {
     "iopub.execute_input": "2025-05-18T23:25:20.406399Z",
     "iopub.status.busy": "2025-05-18T23:25:20.406156Z",
     "iopub.status.idle": "2025-05-18T23:25:20.410417Z",
     "shell.execute_reply": "2025-05-18T23:25:20.409901Z"
    },
    "papermill": {
     "duration": 0.009706,
     "end_time": "2025-05-18T23:25:20.411503",
     "exception": false,
     "start_time": "2025-05-18T23:25:20.401797",
     "status": "completed"
    },
    "tags": []
   },
   "outputs": [],
   "source": [
    "weights_cbk = tf.keras.callbacks.ModelCheckpoint(\n",
    "    filepath='models/weights/weight_epoch_{epoch:02d}.weights.h5',\n",
    "    save_weights_only=True,  \n",
    "    save_freq='epoch',       \n",
    ")\n",
    "\n",
    "best_model_cbk = tf.keras.callbacks.ModelCheckpoint(\n",
    "    filepath='models/pretrained/EnYo BestModel.keras',\n",
    "    save_weights_only=False,  \n",
    "    monitor='val_loss',       \n",
    "    mode='min',              \n",
    "    save_best_only=True, \n",
    "    verbose=1\n",
    ")\n",
    "\n",
    "early_stopping_cbk = tf.keras.callbacks.EarlyStopping(\n",
    "    monitor='val_masked_accuracy',\n",
    "    patience=5,              \n",
    "    min_delta = 0.01,\n",
    "    verbose=1,\n",
    "    mode='max',              \n",
    "    restore_best_weights=True\n",
    ")"
   ]
  },
  {
   "cell_type": "code",
   "execution_count": 13,
   "id": "832259a9",
   "metadata": {
    "execution": {
     "iopub.execute_input": "2025-05-18T23:25:20.419580Z",
     "iopub.status.busy": "2025-05-18T23:25:20.419339Z",
     "iopub.status.idle": "2025-05-18T23:25:20.422519Z",
     "shell.execute_reply": "2025-05-18T23:25:20.421968Z"
    },
    "papermill": {
     "duration": 0.008463,
     "end_time": "2025-05-18T23:25:20.423604",
     "exception": false,
     "start_time": "2025-05-18T23:25:20.415141",
     "status": "completed"
    },
    "tags": []
   },
   "outputs": [],
   "source": [
    "# debug_dataset = train_set.unbatch().take(512).batch(128)\n",
    "# debug_dataset"
   ]
  },
  {
   "cell_type": "code",
   "execution_count": null,
   "id": "f29ba749",
   "metadata": {
    "execution": {
     "iopub.execute_input": "2025-05-18T23:25:20.431531Z",
     "iopub.status.busy": "2025-05-18T23:25:20.431315Z",
     "iopub.status.idle": "2025-05-19T07:15:37.241455Z",
     "shell.execute_reply": "2025-05-19T07:15:37.240685Z"
    },
    "papermill": {
     "duration": 28217.840002,
     "end_time": "2025-05-19T07:15:38.267266",
     "exception": false,
     "start_time": "2025-05-18T23:25:20.427264",
     "status": "completed"
    },
    "tags": []
   },
   "outputs": [
    {
     "name": "stdout",
     "output_type": "stream",
     "text": [
      "Epoch 1/30\n"
     ]
    },
    {
     "name": "stderr",
     "output_type": "stream",
     "text": [
      "/usr/local/lib/python3.11/dist-packages/keras/src/layers/layer.py:938: UserWarning: Layer 'sequential' (of type Sequential) was passed an input with a mask attached to it. However, this layer does not support masking and will therefore destroy the mask information. Downstream layers will not see the mask.\n",
      "  warnings.warn(\n",
      "/usr/local/lib/python3.11/dist-packages/keras/src/layers/layer.py:938: UserWarning: Layer 'sequential_1' (of type Sequential) was passed an input with a mask attached to it. However, this layer does not support masking and will therefore destroy the mask information. Downstream layers will not see the mask.\n",
      "  warnings.warn(\n",
      "/usr/local/lib/python3.11/dist-packages/keras/src/layers/layer.py:938: UserWarning: Layer 'sequential_2' (of type Sequential) was passed an input with a mask attached to it. However, this layer does not support masking and will therefore destroy the mask information. Downstream layers will not see the mask.\n",
      "  warnings.warn(\n",
      "/usr/local/lib/python3.11/dist-packages/keras/src/layers/layer.py:938: UserWarning: Layer 'sequential_3' (of type Sequential) was passed an input with a mask attached to it. However, this layer does not support masking and will therefore destroy the mask information. Downstream layers will not see the mask.\n",
      "  warnings.warn(\n",
      "/usr/local/lib/python3.11/dist-packages/keras/src/layers/layer.py:938: UserWarning: Layer 'sequential_4' (of type Sequential) was passed an input with a mask attached to it. However, this layer does not support masking and will therefore destroy the mask information. Downstream layers will not see the mask.\n",
      "  warnings.warn(\n",
      "/usr/local/lib/python3.11/dist-packages/keras/src/layers/layer.py:938: UserWarning: Layer 'sequential_5' (of type Sequential) was passed an input with a mask attached to it. However, this layer does not support masking and will therefore destroy the mask information. Downstream layers will not see the mask.\n",
      "  warnings.warn(\n",
      "/usr/local/lib/python3.11/dist-packages/keras/src/layers/layer.py:938: UserWarning: Layer 'sequential_6' (of type Sequential) was passed an input with a mask attached to it. However, this layer does not support masking and will therefore destroy the mask information. Downstream layers will not see the mask.\n",
      "  warnings.warn(\n",
      "/usr/local/lib/python3.11/dist-packages/keras/src/layers/layer.py:938: UserWarning: Layer 'sequential_7' (of type Sequential) was passed an input with a mask attached to it. However, this layer does not support masking and will therefore destroy the mask information. Downstream layers will not see the mask.\n",
      "  warnings.warn(\n",
      "WARNING: All log messages before absl::InitializeLog() is called are written to STDERR\n",
      "I0000 00:00:1747610770.436427      70 service.cc:148] XLA service 0x7fb770001f80 initialized for platform CUDA (this does not guarantee that XLA will be used). Devices:\n",
      "I0000 00:00:1747610770.437437      70 service.cc:156]   StreamExecutor device (0): Tesla P100-PCIE-16GB, Compute Capability 6.0\n",
      "W0000 00:00:1747610772.845551      70 assert_op.cc:38] Ignoring Assert operator compile_loss/masked_loss/sparse_categorical_crossentropy/SparseSoftmaxCrossEntropyWithLogits/assert_equal_1/Assert/Assert\n",
      "I0000 00:00:1747610774.266965      70 cuda_dnn.cc:529] Loaded cuDNN version 90300\n",
      "I0000 00:00:1747610794.835181      70 device_compiler.h:188] Compiled cluster using XLA!  This line is logged at most once for the lifetime of the process.\n"
     ]
    },
    {
     "name": "stdout",
     "output_type": "stream",
     "text": [
      "\u001b[1m4233/4234\u001b[0m \u001b[32m━━━━━━━━━━━━━━━━━━━\u001b[0m\u001b[37m━\u001b[0m \u001b[1m0s\u001b[0m 321ms/step - loss: 6.8047 - masked_accuracy: 0.1532"
     ]
    },
    {
     "name": "stderr",
     "output_type": "stream",
     "text": [
      "W0000 00:00:1747612157.931432      70 assert_op.cc:38] Ignoring Assert operator compile_loss/masked_loss/sparse_categorical_crossentropy/SparseSoftmaxCrossEntropyWithLogits/assert_equal_1/Assert/Assert\n"
     ]
    },
    {
     "name": "stdout",
     "output_type": "stream",
     "text": [
      "\u001b[1m4234/4234\u001b[0m \u001b[32m━━━━━━━━━━━━━━━━━━━━\u001b[0m\u001b[37m\u001b[0m \u001b[1m0s\u001b[0m 327ms/step - loss: 6.8043 - masked_accuracy: 0.1532"
     ]
    },
    {
     "name": "stderr",
     "output_type": "stream",
     "text": [
      "W0000 00:00:1747612181.455124      72 assert_op.cc:38] Ignoring Assert operator compile_loss/masked_loss/sparse_categorical_crossentropy/SparseSoftmaxCrossEntropyWithLogits/assert_equal_1/Assert/Assert\n",
      "W0000 00:00:1747612230.342265      70 assert_op.cc:38] Ignoring Assert operator compile_loss/masked_loss/sparse_categorical_crossentropy/SparseSoftmaxCrossEntropyWithLogits/assert_equal_1/Assert/Assert\n"
     ]
    },
    {
     "name": "stdout",
     "output_type": "stream",
     "text": [
      "\n",
      "Epoch 1: val_loss improved from inf to 3.67855, saving model to best_model.keras\n",
      "\u001b[1m4234/4234\u001b[0m \u001b[32m━━━━━━━━━━━━━━━━━━━━\u001b[0m\u001b[37m\u001b[0m \u001b[1m1514s\u001b[0m 340ms/step - loss: 6.8040 - masked_accuracy: 0.1532 - val_loss: 3.6785 - val_masked_accuracy: 0.3937\n",
      "Epoch 2/30\n",
      "\u001b[1m4234/4234\u001b[0m \u001b[32m━━━━━━━━━━━━━━━━━━━━\u001b[0m\u001b[37m\u001b[0m \u001b[1m0s\u001b[0m 320ms/step - loss: 3.6213 - masked_accuracy: 0.3988\n",
      "Epoch 2: val_loss improved from 3.67855 to 2.82996, saving model to best_model.keras\n",
      "\u001b[1m4234/4234\u001b[0m \u001b[32m━━━━━━━━━━━━━━━━━━━━\u001b[0m\u001b[37m\u001b[0m \u001b[1m1406s\u001b[0m 332ms/step - loss: 3.6212 - masked_accuracy: 0.3988 - val_loss: 2.8300 - val_masked_accuracy: 0.5029\n",
      "Epoch 3/30\n",
      "\u001b[1m4234/4234\u001b[0m \u001b[32m━━━━━━━━━━━━━━━━━━━━\u001b[0m\u001b[37m\u001b[0m \u001b[1m0s\u001b[0m 320ms/step - loss: 2.9608 - masked_accuracy: 0.4827\n",
      "Epoch 3: val_loss improved from 2.82996 to 2.57344, saving model to best_model.keras\n",
      "\u001b[1m4234/4234\u001b[0m \u001b[32m━━━━━━━━━━━━━━━━━━━━\u001b[0m\u001b[37m\u001b[0m \u001b[1m1405s\u001b[0m 332ms/step - loss: 2.9608 - masked_accuracy: 0.4827 - val_loss: 2.5734 - val_masked_accuracy: 0.5395\n",
      "Epoch 4/30\n",
      "\u001b[1m4234/4234\u001b[0m \u001b[32m━━━━━━━━━━━━━━━━━━━━\u001b[0m\u001b[37m\u001b[0m \u001b[1m0s\u001b[0m 320ms/step - loss: 2.6999 - masked_accuracy: 0.5188\n",
      "Epoch 4: val_loss improved from 2.57344 to 2.45160, saving model to best_model.keras\n",
      "\u001b[1m4234/4234\u001b[0m \u001b[32m━━━━━━━━━━━━━━━━━━━━\u001b[0m\u001b[37m\u001b[0m \u001b[1m1405s\u001b[0m 332ms/step - loss: 2.6999 - masked_accuracy: 0.5188 - val_loss: 2.4516 - val_masked_accuracy: 0.5568\n",
      "Epoch 5/30\n",
      "\u001b[1m4234/4234\u001b[0m \u001b[32m━━━━━━━━━━━━━━━━━━━━\u001b[0m\u001b[37m\u001b[0m \u001b[1m0s\u001b[0m 320ms/step - loss: 2.5612 - masked_accuracy: 0.5383\n",
      "Epoch 5: val_loss improved from 2.45160 to 2.36730, saving model to best_model.keras\n",
      "\u001b[1m4234/4234\u001b[0m \u001b[32m━━━━━━━━━━━━━━━━━━━━\u001b[0m\u001b[37m\u001b[0m \u001b[1m1405s\u001b[0m 332ms/step - loss: 2.5612 - masked_accuracy: 0.5383 - val_loss: 2.3673 - val_masked_accuracy: 0.5686\n",
      "Epoch 6/30\n",
      "\u001b[1m4234/4234\u001b[0m \u001b[32m━━━━━━━━━━━━━━━━━━━━\u001b[0m\u001b[37m\u001b[0m \u001b[1m0s\u001b[0m 320ms/step - loss: 2.4761 - masked_accuracy: 0.5502\n",
      "Epoch 6: val_loss improved from 2.36730 to 2.31248, saving model to best_model.keras\n",
      "\u001b[1m4234/4234\u001b[0m \u001b[32m━━━━━━━━━━━━━━━━━━━━\u001b[0m\u001b[37m\u001b[0m \u001b[1m1405s\u001b[0m 332ms/step - loss: 2.4761 - masked_accuracy: 0.5502 - val_loss: 2.3125 - val_masked_accuracy: 0.5767\n",
      "Epoch 7/30\n",
      "\u001b[1m4234/4234\u001b[0m \u001b[32m━━━━━━━━━━━━━━━━━━━━\u001b[0m\u001b[37m\u001b[0m \u001b[1m0s\u001b[0m 320ms/step - loss: 2.4110 - masked_accuracy: 0.5594\n",
      "Epoch 7: val_loss improved from 2.31248 to 2.28201, saving model to best_model.keras\n",
      "\u001b[1m4234/4234\u001b[0m \u001b[32m━━━━━━━━━━━━━━━━━━━━\u001b[0m\u001b[37m\u001b[0m \u001b[1m1405s\u001b[0m 332ms/step - loss: 2.4110 - masked_accuracy: 0.5594 - val_loss: 2.2820 - val_masked_accuracy: 0.5815\n",
      "Epoch 8/30\n",
      "\u001b[1m4234/4234\u001b[0m \u001b[32m━━━━━━━━━━━━━━━━━━━━\u001b[0m\u001b[37m\u001b[0m \u001b[1m0s\u001b[0m 320ms/step - loss: 2.3644 - masked_accuracy: 0.5661\n",
      "Epoch 8: val_loss improved from 2.28201 to 2.25074, saving model to best_model.keras\n",
      "\u001b[1m4234/4234\u001b[0m \u001b[32m━━━━━━━━━━━━━━━━━━━━\u001b[0m\u001b[37m\u001b[0m \u001b[1m1405s\u001b[0m 332ms/step - loss: 2.3644 - masked_accuracy: 0.5661 - val_loss: 2.2507 - val_masked_accuracy: 0.5863\n",
      "Epoch 9/30\n",
      "\u001b[1m4234/4234\u001b[0m \u001b[32m━━━━━━━━━━━━━━━━━━━━\u001b[0m\u001b[37m\u001b[0m \u001b[1m0s\u001b[0m 320ms/step - loss: 2.3280 - masked_accuracy: 0.5714\n",
      "Epoch 9: val_loss improved from 2.25074 to 2.22842, saving model to best_model.keras\n",
      "\u001b[1m4234/4234\u001b[0m \u001b[32m━━━━━━━━━━━━━━━━━━━━\u001b[0m\u001b[37m\u001b[0m \u001b[1m1406s\u001b[0m 332ms/step - loss: 2.3280 - masked_accuracy: 0.5714 - val_loss: 2.2284 - val_masked_accuracy: 0.5901\n",
      "Epoch 10/30\n",
      "\u001b[1m4234/4234\u001b[0m \u001b[32m━━━━━━━━━━━━━━━━━━━━\u001b[0m\u001b[37m\u001b[0m \u001b[1m0s\u001b[0m 320ms/step - loss: 2.2974 - masked_accuracy: 0.5757\n",
      "Epoch 10: val_loss improved from 2.22842 to 2.20073, saving model to best_model.keras\n",
      "\u001b[1m4234/4234\u001b[0m \u001b[32m━━━━━━━━━━━━━━━━━━━━\u001b[0m\u001b[37m\u001b[0m \u001b[1m1406s\u001b[0m 332ms/step - loss: 2.2974 - masked_accuracy: 0.5757 - val_loss: 2.2007 - val_masked_accuracy: 0.5931\n",
      "Epoch 11/30\n",
      "\u001b[1m4234/4234\u001b[0m \u001b[32m━━━━━━━━━━━━━━━━━━━━\u001b[0m\u001b[37m\u001b[0m \u001b[1m0s\u001b[0m 320ms/step - loss: 2.2701 - masked_accuracy: 0.5797\n",
      "Epoch 11: val_loss improved from 2.20073 to 2.18890, saving model to best_model.keras\n",
      "\u001b[1m4234/4234\u001b[0m \u001b[32m━━━━━━━━━━━━━━━━━━━━\u001b[0m\u001b[37m\u001b[0m \u001b[1m1405s\u001b[0m 332ms/step - loss: 2.2701 - masked_accuracy: 0.5797 - val_loss: 2.1889 - val_masked_accuracy: 0.5955\n",
      "Epoch 12/30\n",
      "\u001b[1m4234/4234\u001b[0m \u001b[32m━━━━━━━━━━━━━━━━━━━━\u001b[0m\u001b[37m\u001b[0m \u001b[1m0s\u001b[0m 320ms/step - loss: 2.2470 - masked_accuracy: 0.5831\n",
      "Epoch 12: val_loss improved from 2.18890 to 2.17103, saving model to best_model.keras\n",
      "\u001b[1m4234/4234\u001b[0m \u001b[32m━━━━━━━━━━━━━━━━━━━━\u001b[0m\u001b[37m\u001b[0m \u001b[1m1405s\u001b[0m 332ms/step - loss: 2.2470 - masked_accuracy: 0.5831 - val_loss: 2.1710 - val_masked_accuracy: 0.5987\n",
      "Epoch 13/30\n",
      "\u001b[1m4234/4234\u001b[0m \u001b[32m━━━━━━━━━━━━━━━━━━━━\u001b[0m\u001b[37m\u001b[0m \u001b[1m0s\u001b[0m 320ms/step - loss: 2.2295 - masked_accuracy: 0.5856\n",
      "Epoch 13: val_loss improved from 2.17103 to 2.16333, saving model to best_model.keras\n",
      "\u001b[1m4234/4234\u001b[0m \u001b[32m━━━━━━━━━━━━━━━━━━━━\u001b[0m\u001b[37m\u001b[0m \u001b[1m1405s\u001b[0m 332ms/step - loss: 2.2295 - masked_accuracy: 0.5856 - val_loss: 2.1633 - val_masked_accuracy: 0.5997\n",
      "Epoch 14/30\n",
      "\u001b[1m4234/4234\u001b[0m \u001b[32m━━━━━━━━━━━━━━━━━━━━\u001b[0m\u001b[37m\u001b[0m \u001b[1m0s\u001b[0m 320ms/step - loss: 2.2062 - masked_accuracy: 0.5890\n",
      "Epoch 14: val_loss improved from 2.16333 to 2.14686, saving model to best_model.keras\n",
      "\u001b[1m4234/4234\u001b[0m \u001b[32m━━━━━━━━━━━━━━━━━━━━\u001b[0m\u001b[37m\u001b[0m \u001b[1m1405s\u001b[0m 332ms/step - loss: 2.2062 - masked_accuracy: 0.5890 - val_loss: 2.1469 - val_masked_accuracy: 0.6019\n",
      "Epoch 15/30\n",
      "\u001b[1m4234/4234\u001b[0m \u001b[32m━━━━━━━━━━━━━━━━━━━━\u001b[0m\u001b[37m\u001b[0m \u001b[1m0s\u001b[0m 320ms/step - loss: 2.1933 - masked_accuracy: 0.5908\n",
      "Epoch 15: val_loss improved from 2.14686 to 2.13844, saving model to best_model.keras\n",
      "\u001b[1m4234/4234\u001b[0m \u001b[32m━━━━━━━━━━━━━━━━━━━━\u001b[0m\u001b[37m\u001b[0m \u001b[1m1406s\u001b[0m 332ms/step - loss: 2.1933 - masked_accuracy: 0.5908 - val_loss: 2.1384 - val_masked_accuracy: 0.6033\n",
      "Epoch 16/30\n",
      "\u001b[1m4234/4234\u001b[0m \u001b[32m━━━━━━━━━━━━━━━━━━━━\u001b[0m\u001b[37m\u001b[0m \u001b[1m0s\u001b[0m 321ms/step - loss: 2.1806 - masked_accuracy: 0.5927\n",
      "Epoch 16: val_loss improved from 2.13844 to 2.13537, saving model to best_model.keras\n",
      "\u001b[1m4234/4234\u001b[0m \u001b[32m━━━━━━━━━━━━━━━━━━━━\u001b[0m\u001b[37m\u001b[0m \u001b[1m1408s\u001b[0m 332ms/step - loss: 2.1806 - masked_accuracy: 0.5927 - val_loss: 2.1354 - val_masked_accuracy: 0.6035\n",
      "Epoch 17/30\n",
      "\u001b[1m4234/4234\u001b[0m \u001b[32m━━━━━━━━━━━━━━━━━━━━\u001b[0m\u001b[37m\u001b[0m \u001b[1m0s\u001b[0m 320ms/step - loss: 2.1657 - masked_accuracy: 0.5950\n",
      "Epoch 17: val_loss improved from 2.13537 to 2.12151, saving model to best_model.keras\n",
      "\u001b[1m4234/4234\u001b[0m \u001b[32m━━━━━━━━━━━━━━━━━━━━\u001b[0m\u001b[37m\u001b[0m \u001b[1m1407s\u001b[0m 332ms/step - loss: 2.1657 - masked_accuracy: 0.5950 - val_loss: 2.1215 - val_masked_accuracy: 0.6055\n",
      "Epoch 18/30\n",
      "\u001b[1m4234/4234\u001b[0m \u001b[32m━━━━━━━━━━━━━━━━━━━━\u001b[0m\u001b[37m\u001b[0m \u001b[1m0s\u001b[0m 320ms/step - loss: 2.1536 - masked_accuracy: 0.5964\n",
      "Epoch 18: val_loss improved from 2.12151 to 2.11463, saving model to best_model.keras\n",
      "\u001b[1m4234/4234\u001b[0m \u001b[32m━━━━━━━━━━━━━━━━━━━━\u001b[0m\u001b[37m\u001b[0m \u001b[1m1407s\u001b[0m 332ms/step - loss: 2.1536 - masked_accuracy: 0.5964 - val_loss: 2.1146 - val_masked_accuracy: 0.6067\n",
      "Epoch 19/30\n",
      "\u001b[1m4234/4234\u001b[0m \u001b[32m━━━━━━━━━━━━━━━━━━━━\u001b[0m\u001b[37m\u001b[0m \u001b[1m0s\u001b[0m 320ms/step - loss: 2.1445 - masked_accuracy: 0.5980\n",
      "Epoch 19: val_loss did not improve from 2.11463\n",
      "\u001b[1m4234/4234\u001b[0m \u001b[32m━━━━━━━━━━━━━━━━━━━━\u001b[0m\u001b[37m\u001b[0m \u001b[1m1404s\u001b[0m 331ms/step - loss: 2.1445 - masked_accuracy: 0.5980 - val_loss: 2.1166 - val_masked_accuracy: 0.6072\n",
      "Epoch 20/30\n",
      "\u001b[1m4234/4234\u001b[0m \u001b[32m━━━━━━━━━━━━━━━━━━━━\u001b[0m\u001b[37m\u001b[0m \u001b[1m0s\u001b[0m 320ms/step - loss: 2.1321 - masked_accuracy: 0.5997\n",
      "Epoch 20: val_loss improved from 2.11463 to 2.10672, saving model to best_model.keras\n",
      "\u001b[1m4234/4234\u001b[0m \u001b[32m━━━━━━━━━━━━━━━━━━━━\u001b[0m\u001b[37m\u001b[0m \u001b[1m1404s\u001b[0m 332ms/step - loss: 2.1321 - masked_accuracy: 0.5997 - val_loss: 2.1067 - val_masked_accuracy: 0.6082\n",
      "Epoch 20: early stopping\n",
      "Restoring model weights from the end of the best epoch: 15.\n"
     ]
    }
   ],
   "source": [
    "model.fit(train_set, epochs=30,\n",
    "                    validation_data=valid_set,\n",
    "                    callbacks=[weights_cbk, best_model_cbk, early_stopping_cbk]\n",
    "                   )\n",
    "\n",
    "model.save(\"models/pretrained/EnYo BaseModel.keras\")"
   ]
  },
  {
   "cell_type": "code",
   "execution_count": 16,
   "id": "c83cb51e",
   "metadata": {
    "execution": {
     "iopub.execute_input": "2025-05-19T07:15:53.663840Z",
     "iopub.status.busy": "2025-05-19T07:15:53.663220Z",
     "iopub.status.idle": "2025-05-19T07:15:53.666511Z",
     "shell.execute_reply": "2025-05-19T07:15:53.665956Z"
    },
    "papermill": {
     "duration": 3.767761,
     "end_time": "2025-05-19T07:15:53.667569",
     "exception": false,
     "start_time": "2025-05-19T07:15:49.899808",
     "status": "completed"
    },
    "tags": []
   },
   "outputs": [],
   "source": [
    "# for i, (w1, w2) in enumerate(zip(model.weights, loaded_model.weights)):\n",
    "#      layer_name = model.weights[i].name  # Get the layer name\n",
    "#      print(f\"\\nLayer {i}: {layer_name}, w1.shape = {w1.shape}, w2.shape = {w2.shape}\")"
   ]
  }
 ],
 "metadata": {
  "kaggle": {
   "accelerator": "gpu",
   "dataSources": [
    {
     "datasetId": 2974749,
     "sourceId": 5121754,
     "sourceType": "datasetVersion"
    },
    {
     "datasetId": 6607180,
     "sourceId": 10668170,
     "sourceType": "datasetVersion"
    },
    {
     "datasetId": 7385320,
     "sourceId": 11763979,
     "sourceType": "datasetVersion"
    },
    {
     "isSourceIdPinned": true,
     "modelId": 345773,
     "modelInstanceId": 324938,
     "sourceId": 395673,
     "sourceType": "modelInstanceVersion"
    }
   ],
   "isGpuEnabled": true,
   "isInternetEnabled": true,
   "language": "python",
   "sourceType": "notebook"
  },
  "kernelspec": {
   "display_name": "Python 3",
   "language": "python",
   "name": "python3"
  },
  "language_info": {
   "codemirror_mode": {
    "name": "ipython",
    "version": 3
   },
   "file_extension": ".py",
   "mimetype": "text/x-python",
   "name": "python",
   "nbconvert_exporter": "python",
   "pygments_lexer": "ipython3",
   "version": "3.11.11"
  },
  "papermill": {
   "default_parameters": {},
   "duration": 28320.946661,
   "end_time": "2025-05-19T07:16:00.552284",
   "environment_variables": {},
   "exception": null,
   "input_path": "__notebook__.ipynb",
   "output_path": "__notebook__.ipynb",
   "parameters": {},
   "start_time": "2025-05-18T23:23:59.605623",
   "version": "2.6.0"
  }
 },
 "nbformat": 4,
 "nbformat_minor": 5
}
