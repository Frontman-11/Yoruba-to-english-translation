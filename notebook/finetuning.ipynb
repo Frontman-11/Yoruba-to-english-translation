{
 "cells": [
  {
   "cell_type": "code",
   "execution_count": null,
   "id": "5e4bfd18",
   "metadata": {
    "_cell_guid": "040a8fb6-a3ea-4ec2-a6be-7b80d5c3ab15",
    "_uuid": "3c864734-9834-4b31-9828-331b03931369",
    "collapsed": false,
    "execution": {
     "iopub.execute_input": "2025-05-19T15:19:21.672082Z",
     "iopub.status.busy": "2025-05-19T15:19:21.671834Z",
     "iopub.status.idle": "2025-05-19T15:19:37.549737Z",
     "shell.execute_reply": "2025-05-19T15:19:37.548963Z"
    },
    "jupyter": {
     "outputs_hidden": false
    },
    "papermill": {
     "duration": 15.883961,
     "end_time": "2025-05-19T15:19:37.551176",
     "exception": false,
     "start_time": "2025-05-19T15:19:21.667215",
     "status": "completed"
    },
    "tags": []
   },
   "outputs": [
    {
     "name": "stderr",
     "output_type": "stream",
     "text": [
      "2025-05-19 15:19:24.927911: E external/local_xla/xla/stream_executor/cuda/cuda_fft.cc:477] Unable to register cuFFT factory: Attempting to register factory for plugin cuFFT when one has already been registered\n",
      "WARNING: All log messages before absl::InitializeLog() is called are written to STDERR\n",
      "E0000 00:00:1747667965.123166      19 cuda_dnn.cc:8310] Unable to register cuDNN factory: Attempting to register factory for plugin cuDNN when one has already been registered\n",
      "E0000 00:00:1747667965.185254      19 cuda_blas.cc:1418] Unable to register cuBLAS factory: Attempting to register factory for plugin cuBLAS when one has already been registered\n"
     ]
    }
   ],
   "source": [
    "import sys\n",
    "import keras\n",
    "import numpy as np\n",
    "import pandas as pd\n",
    "import tensorflow as tf\n",
    "from read_file import ReadFile\n",
    "from schedule import CustomSchedule\n",
    "from transformer import Transformer\n",
    "from tokenizer import FrontmanTokenizer\n",
    "from metrics import masked_loss, masked_accuracy"
   ]
  },
  {
   "cell_type": "code",
   "execution_count": 3,
   "id": "46000ad8",
   "metadata": {
    "execution": {
     "iopub.execute_input": "2025-05-19T15:19:37.560170Z",
     "iopub.status.busy": "2025-05-19T15:19:37.559286Z",
     "iopub.status.idle": "2025-05-19T15:19:37.563688Z",
     "shell.execute_reply": "2025-05-19T15:19:37.563029Z"
    },
    "papermill": {
     "duration": 0.009752,
     "end_time": "2025-05-19T15:19:37.564813",
     "exception": false,
     "start_time": "2025-05-19T15:19:37.555061",
     "status": "completed"
    },
    "tags": []
   },
   "outputs": [],
   "source": [
    "seed = 42\n",
    "tf.random.set_seed(seed)\n",
    "np.random.seed(seed)"
   ]
  },
  {
   "cell_type": "code",
   "execution_count": 4,
   "id": "4012b3e9",
   "metadata": {
    "execution": {
     "iopub.execute_input": "2025-05-19T15:19:37.572869Z",
     "iopub.status.busy": "2025-05-19T15:19:37.572574Z",
     "iopub.status.idle": "2025-05-19T15:19:37.576046Z",
     "shell.execute_reply": "2025-05-19T15:19:37.575362Z"
    },
    "papermill": {
     "duration": 0.008701,
     "end_time": "2025-05-19T15:19:37.577143",
     "exception": false,
     "start_time": "2025-05-19T15:19:37.568442",
     "status": "completed"
    },
    "tags": []
   },
   "outputs": [],
   "source": [
    "# tf.config.run_functions_eagerly(True)\n",
    "# tf.data.experimental.enable_debug_mode()"
   ]
  },
  {
   "cell_type": "code",
   "execution_count": 5,
   "id": "4efe0096",
   "metadata": {
    "_cell_guid": "92d9d96c-fac3-4019-97e0-413a5271459c",
    "_uuid": "9192ff50-ef08-48b9-bd03-37f3ea088e2c",
    "collapsed": false,
    "execution": {
     "iopub.execute_input": "2025-05-19T15:19:37.585189Z",
     "iopub.status.busy": "2025-05-19T15:19:37.584683Z",
     "iopub.status.idle": "2025-05-19T15:19:37.588968Z",
     "shell.execute_reply": "2025-05-19T15:19:37.588214Z"
    },
    "jupyter": {
     "outputs_hidden": false
    },
    "papermill": {
     "duration": 0.009472,
     "end_time": "2025-05-19T15:19:37.590055",
     "exception": false,
     "start_time": "2025-05-19T15:19:37.580583",
     "status": "completed"
    },
    "tags": []
   },
   "outputs": [
    {
     "name": "stdout",
     "output_type": "stream",
     "text": [
      "Tensorflow version: 2.18.0\n",
      "Python version: 3.11.11 (main, Dec  4 2024, 08:55:07) [GCC 11.4.0]\n"
     ]
    }
   ],
   "source": [
    "print(f'Tensorflow version: {tf.__version__}')\n",
    "print(f'Python version: {sys.version}')"
   ]
  },
  {
   "cell_type": "markdown",
   "id": "dab30296",
   "metadata": {
    "papermill": {
     "duration": 0.003819,
     "end_time": "2025-05-19T15:19:37.597352",
     "exception": false,
     "start_time": "2025-05-19T15:19:37.593533",
     "status": "completed"
    },
    "tags": []
   },
   "source": [
    "Tensorflow version: 2.17.1\n",
    "\n",
    "\n",
    "Python version: 3.10.12 (main, Nov  6 2024, 20:22:13) [GCC 11.4.0]"
   ]
  },
  {
   "cell_type": "code",
   "execution_count": null,
   "id": "4d744ad7",
   "metadata": {
    "execution": {
     "iopub.execute_input": "2025-05-19T15:19:37.605362Z",
     "iopub.status.busy": "2025-05-19T15:19:37.604882Z",
     "iopub.status.idle": "2025-05-19T15:19:45.974943Z",
     "shell.execute_reply": "2025-05-19T15:19:45.974301Z"
    },
    "papermill": {
     "duration": 8.3754,
     "end_time": "2025-05-19T15:19:45.976313",
     "exception": false,
     "start_time": "2025-05-19T15:19:37.600913",
     "status": "completed"
    },
    "tags": []
   },
   "outputs": [],
   "source": [
    "opus_file = 'data/train/opus_yo_en.tsv'        \n",
    "raw_file = 'data/train/raw_yo_en.tsv'                \n",
    "JW300 = 'data/train/JW300_en-yo.csv'                 \n",
    "bible = 'data/train/bible_yo_en.csv'           \n",
    "Government = 'data/train/Train.csv'                  \n",
    "\n",
    "\n",
    "reader = ReadFile(dropna=True, drop_duplicates=True)\n",
    "\n",
    "_, valid_df = reader.read_file([Government, opus_file, raw_file, bible, JW300],\n",
    "                                     delimiter=',',\n",
    "                                     shuffle=True, \n",
    "                                     split_ratio=0.1)\n",
    "\n",
    "menyo_train = 'data/dev/train.tsv'\n",
    "# education = 'data/dev/EnYo_Education.tsv'\n",
    "monyo_dev = 'data/dev/dev.tsv'\n",
    "\n",
    "menyo_test = 'data/test/test.tsv'\n",
    "\n",
    "\n",
    "reader = ReadFile(dropna=True, drop_duplicates=True)\n",
    "\n",
    "\n",
    "train_df = reader.read_file([menyo_train, monyo_dev],\n",
    "                                     delimiter=',',\n",
    "                                     shuffle=True, \n",
    "                                     split_ratio=None)\n",
    "\n",
    "train_df = pd.concat([train_df, valid_df], axis=0, ignore_index=True)\n",
    "\n",
    "\n",
    "valid_df = reader.read_file([menyo_test],\n",
    "                                     delimiter=',',\n",
    "                                     shuffle=False, \n",
    "                                     split_ratio=None)\n",
    "\n",
    "train_df = reader.shuffle_df(train_df)"
   ]
  },
  {
   "cell_type": "code",
   "execution_count": 7,
   "id": "7f81a60a",
   "metadata": {
    "execution": {
     "iopub.execute_input": "2025-05-19T15:19:45.984499Z",
     "iopub.status.busy": "2025-05-19T15:19:45.984293Z",
     "iopub.status.idle": "2025-05-19T15:19:46.091444Z",
     "shell.execute_reply": "2025-05-19T15:19:46.090840Z"
    },
    "papermill": {
     "duration": 0.112416,
     "end_time": "2025-05-19T15:19:46.092650",
     "exception": false,
     "start_time": "2025-05-19T15:19:45.980234",
     "status": "completed"
    },
    "tags": []
   },
   "outputs": [
    {
     "data": {
      "text/html": [
       "<div>\n",
       "<style scoped>\n",
       "    .dataframe tbody tr th:only-of-type {\n",
       "        vertical-align: middle;\n",
       "    }\n",
       "\n",
       "    .dataframe tbody tr th {\n",
       "        vertical-align: top;\n",
       "    }\n",
       "\n",
       "    .dataframe thead th {\n",
       "        text-align: right;\n",
       "    }\n",
       "</style>\n",
       "<table border=\"1\" class=\"dataframe\">\n",
       "  <thead>\n",
       "    <tr style=\"text-align: right;\">\n",
       "      <th></th>\n",
       "      <th>Yoruba</th>\n",
       "      <th>English</th>\n",
       "    </tr>\n",
       "  </thead>\n",
       "  <tbody>\n",
       "    <tr>\n",
       "      <th>0</th>\n",
       "      <td>Torí náà, nígbà tí Sámúẹ́lì rí i pé Jèhófà kò ...</td>\n",
       "      <td>So when Samuel learned that Jehovah had not ch...</td>\n",
       "    </tr>\n",
       "    <tr>\n",
       "      <th>1</th>\n",
       "      <td>Gbogbo ìgbà là ń gbàdúrà fún àwọn arákùnrin àt...</td>\n",
       "      <td>We pray for our brothers and sisters affected ...</td>\n",
       "    </tr>\n",
       "    <tr>\n",
       "      <th>2</th>\n",
       "      <td>4/&lt;UNK&gt;- Isere</td>\n",
       "      <td>4/&lt;UNK&gt;- Ishtar</td>\n",
       "    </tr>\n",
       "    <tr>\n",
       "      <th>3</th>\n",
       "      <td>Àfi ṣìí tí dírẹ́bà wa dúró lójijì!</td>\n",
       "      <td>Suddenly our driver stops!</td>\n",
       "    </tr>\n",
       "    <tr>\n",
       "      <th>4</th>\n",
       "      <td>Bó sì ṣe yẹ́ kó rí náà nìyẹn, torí pé Jèhófà Ọ...</td>\n",
       "      <td>We would expect that to be true of the Bible, ...</td>\n",
       "    </tr>\n",
       "    <tr>\n",
       "      <th>...</th>\n",
       "      <td>...</td>\n",
       "      <td>...</td>\n",
       "    </tr>\n",
       "    <tr>\n",
       "      <th>72548</th>\n",
       "      <td>Ní ọdún méjì péré, ó lé ní ẹgbẹ̀rún méjìlá [ 1...</td>\n",
       "      <td>Over the next two years, more than 12,000 elde...</td>\n",
       "    </tr>\n",
       "    <tr>\n",
       "      <th>72549</th>\n",
       "      <td>Mo rò wí pé ó ṣe pàtàkì.</td>\n",
       "      <td>I think it's quite significant.</td>\n",
       "    </tr>\n",
       "    <tr>\n",
       "      <th>72550</th>\n",
       "      <td>Ẹ jẹ́ ká gbé àpẹẹrẹ tá a tọ́ka sí lókè yìí yẹ̀...</td>\n",
       "      <td>Let us take the example cited above, 1 Thessal...</td>\n",
       "    </tr>\n",
       "    <tr>\n",
       "      <th>72551</th>\n",
       "      <td>Láti kọ́ si nípa lílo Kolibri láìsí lórí ìṣàso...</td>\n",
       "      <td>To learn more about using Kolibri in an offlin...</td>\n",
       "    </tr>\n",
       "    <tr>\n",
       "      <th>72552</th>\n",
       "      <td>ICARO ofurufu Development inu didun iloju awọn...</td>\n",
       "      <td>ICARO Aircraft Development proudly presents th...</td>\n",
       "    </tr>\n",
       "  </tbody>\n",
       "</table>\n",
       "<p>72553 rows × 2 columns</p>\n",
       "</div>"
      ],
      "text/plain": [
       "                                                  Yoruba  \\\n",
       "0      Torí náà, nígbà tí Sámúẹ́lì rí i pé Jèhófà kò ...   \n",
       "1      Gbogbo ìgbà là ń gbàdúrà fún àwọn arákùnrin àt...   \n",
       "2                                         4/<UNK>- Isere   \n",
       "3                     Àfi ṣìí tí dírẹ́bà wa dúró lójijì!   \n",
       "4      Bó sì ṣe yẹ́ kó rí náà nìyẹn, torí pé Jèhófà Ọ...   \n",
       "...                                                  ...   \n",
       "72548  Ní ọdún méjì péré, ó lé ní ẹgbẹ̀rún méjìlá [ 1...   \n",
       "72549                           Mo rò wí pé ó ṣe pàtàkì.   \n",
       "72550  Ẹ jẹ́ ká gbé àpẹẹrẹ tá a tọ́ka sí lókè yìí yẹ̀...   \n",
       "72551  Láti kọ́ si nípa lílo Kolibri láìsí lórí ìṣàso...   \n",
       "72552  ICARO ofurufu Development inu didun iloju awọn...   \n",
       "\n",
       "                                                 English  \n",
       "0      So when Samuel learned that Jehovah had not ch...  \n",
       "1      We pray for our brothers and sisters affected ...  \n",
       "2                                        4/<UNK>- Ishtar  \n",
       "3                             Suddenly our driver stops!  \n",
       "4      We would expect that to be true of the Bible, ...  \n",
       "...                                                  ...  \n",
       "72548  Over the next two years, more than 12,000 elde...  \n",
       "72549                    I think it's quite significant.  \n",
       "72550  Let us take the example cited above, 1 Thessal...  \n",
       "72551  To learn more about using Kolibri in an offlin...  \n",
       "72552  ICARO Aircraft Development proudly presents th...  \n",
       "\n",
       "[72553 rows x 2 columns]"
      ]
     },
     "execution_count": 7,
     "metadata": {},
     "output_type": "execute_result"
    }
   ],
   "source": [
    "train_df.drop_duplicates(inplace=True, ignore_index=True)\n",
    "train_df"
   ]
  },
  {
   "cell_type": "code",
   "execution_count": null,
   "id": "760c57f4",
   "metadata": {
    "execution": {
     "iopub.execute_input": "2025-05-19T15:19:46.101406Z",
     "iopub.status.busy": "2025-05-19T15:19:46.101180Z",
     "iopub.status.idle": "2025-05-19T15:19:46.155121Z",
     "shell.execute_reply": "2025-05-19T15:19:46.154414Z"
    },
    "papermill": {
     "duration": 0.059482,
     "end_time": "2025-05-19T15:19:46.156231",
     "exception": false,
     "start_time": "2025-05-19T15:19:46.096749",
     "status": "completed"
    },
    "tags": []
   },
   "outputs": [],
   "source": [
    "tokenizer = FrontmanTokenizer(model_path='tokenizer/model/yo_en_bpe.model')"
   ]
  },
  {
   "cell_type": "code",
   "execution_count": null,
   "id": "631394e4",
   "metadata": {
    "_cell_guid": "1056efdd-976e-4cf7-a07e-1af6366b5e75",
    "_uuid": "6bd06057-d751-4234-8e00-fba5744e6677",
    "collapsed": false,
    "execution": {
     "iopub.execute_input": "2025-05-19T15:19:46.165317Z",
     "iopub.status.busy": "2025-05-19T15:19:46.165119Z",
     "iopub.status.idle": "2025-05-19T15:19:46.171139Z",
     "shell.execute_reply": "2025-05-19T15:19:46.170583Z"
    },
    "jupyter": {
     "outputs_hidden": false
    },
    "papermill": {
     "duration": 0.01174,
     "end_time": "2025-05-19T15:19:46.172171",
     "exception": false,
     "start_time": "2025-05-19T15:19:46.160431",
     "status": "completed"
    },
    "tags": []
   },
   "outputs": [],
   "source": [
    "def create_dataset(df, tokenizer, max_length=128, batch_size=128, drop_remainder=False, shuffle_size=False, cache=False):\n",
    "    \n",
    "    encoder_input = tokenizer.special_encode(\n",
    "        df['English'].values.tolist(),      # Yoruba for Yoruba to English training \n",
    "        max_length=max_length,\n",
    "        truncation=True,\n",
    "        padding=True\n",
    "    )\n",
    "    \n",
    "    decoder_input = tokenizer.special_encode(\n",
    "        df['Yoruba'].values.tolist(),       # English for English to Yoruba training \n",
    "        max_length=max_length,\n",
    "        truncation=True,\n",
    "        padding=True,\n",
    "        add_bos=True\n",
    "    )\n",
    "\n",
    "    decoder_target= tokenizer.special_encode(\n",
    "        df['Yoruba'].values.tolist(),       # English for English to Yoruba training \n",
    "        max_length=max_length,\n",
    "        truncation=True,\n",
    "        padding=True,\n",
    "        add_eos=True\n",
    "    )\n",
    "    \n",
    "    dataset = tf.data.Dataset.from_tensor_slices(((\n",
    "        encoder_input,\n",
    "        decoder_input,\n",
    "        ),\n",
    "        decoder_target\n",
    "        )\n",
    "    )\n",
    "    \n",
    "    # dataset = tf.data.Dataset.from_tensor_slices((({\n",
    "    #     \"encoder_input_ids\": encoder_input['input_ids'],\n",
    "    #     \"encoder_attention_mask\": encoder_input['attention_mask'],\n",
    "    #     \"decoder_input_ids\": decoder_input['input_ids'],\n",
    "    #     \"decoder_attention_mask\": decoder_input['attention_mask'],}\n",
    "    #     ),\n",
    "    #     decoder_target\n",
    "    #     )\n",
    "    # )\n",
    "\n",
    "    if cache:\n",
    "        dataset = dataset.cache()\n",
    "        \n",
    "    if shuffle_size:\n",
    "        dataset = dataset.shuffle(shuffle_size)\n",
    "        \n",
    "    if batch_size:\n",
    "        dataset = dataset.batch(batch_size, drop_remainder=drop_remainder)\n",
    "\n",
    "    return dataset.prefetch(tf.data.AUTOTUNE)"
   ]
  },
  {
   "cell_type": "code",
   "execution_count": 10,
   "id": "c330bbc7",
   "metadata": {
    "execution": {
     "iopub.execute_input": "2025-05-19T15:19:46.180939Z",
     "iopub.status.busy": "2025-05-19T15:19:46.180493Z",
     "iopub.status.idle": "2025-05-19T15:19:55.323382Z",
     "shell.execute_reply": "2025-05-19T15:19:55.322759Z"
    },
    "papermill": {
     "duration": 9.148454,
     "end_time": "2025-05-19T15:19:55.324475",
     "exception": false,
     "start_time": "2025-05-19T15:19:46.176021",
     "status": "completed"
    },
    "tags": []
   },
   "outputs": [
    {
     "name": "stderr",
     "output_type": "stream",
     "text": [
      "I0000 00:00:1747667989.296459      19 gpu_device.cc:2022] Created device /job:localhost/replica:0/task:0/device:GPU:0 with 15513 MB memory:  -> device: 0, name: Tesla P100-PCIE-16GB, pci bus id: 0000:00:04.0, compute capability: 6.0\n"
     ]
    },
    {
     "data": {
      "text/plain": [
       "<_PrefetchDataset element_spec=((TensorSpec(shape=(None, 128), dtype=tf.int32, name=None), TensorSpec(shape=(None, 128), dtype=tf.int32, name=None)), TensorSpec(shape=(None, 128), dtype=tf.int32, name=None))>"
      ]
     },
     "execution_count": 10,
     "metadata": {},
     "output_type": "execute_result"
    }
   ],
   "source": [
    "train_set = create_dataset(\n",
    "    df=train_df,\n",
    "    tokenizer=tokenizer,\n",
    "    shuffle_size=100_000,\n",
    "    cache=True\n",
    ")\n",
    "\n",
    "valid_set = create_dataset(\n",
    "    df=valid_df,\n",
    "    tokenizer=tokenizer,\n",
    "    cache=True\n",
    ")\n",
    "\n",
    "train_set"
   ]
  },
  {
   "cell_type": "code",
   "execution_count": null,
   "id": "680744fa",
   "metadata": {
    "execution": {
     "iopub.execute_input": "2025-05-19T15:19:55.333328Z",
     "iopub.status.busy": "2025-05-19T15:19:55.333109Z",
     "iopub.status.idle": "2025-05-19T15:20:10.025631Z",
     "shell.execute_reply": "2025-05-19T15:20:10.024865Z"
    },
    "papermill": {
     "duration": 14.698538,
     "end_time": "2025-05-19T15:20:10.027164",
     "exception": false,
     "start_time": "2025-05-19T15:19:55.328626",
     "status": "completed"
    },
    "tags": []
   },
   "outputs": [
    {
     "name": "stderr",
     "output_type": "stream",
     "text": [
      "/usr/local/lib/python3.11/dist-packages/keras/src/layers/layer.py:938: UserWarning: Layer 'sequential' (of type Sequential) was passed an input with a mask attached to it. However, this layer does not support masking and will therefore destroy the mask information. Downstream layers will not see the mask.\n",
      "  warnings.warn(\n",
      "/usr/local/lib/python3.11/dist-packages/keras/src/layers/layer.py:938: UserWarning: Layer 'sequential_1' (of type Sequential) was passed an input with a mask attached to it. However, this layer does not support masking and will therefore destroy the mask information. Downstream layers will not see the mask.\n",
      "  warnings.warn(\n",
      "/usr/local/lib/python3.11/dist-packages/keras/src/layers/layer.py:938: UserWarning: Layer 'sequential_2' (of type Sequential) was passed an input with a mask attached to it. However, this layer does not support masking and will therefore destroy the mask information. Downstream layers will not see the mask.\n",
      "  warnings.warn(\n",
      "/usr/local/lib/python3.11/dist-packages/keras/src/layers/layer.py:938: UserWarning: Layer 'sequential_3' (of type Sequential) was passed an input with a mask attached to it. However, this layer does not support masking and will therefore destroy the mask information. Downstream layers will not see the mask.\n",
      "  warnings.warn(\n",
      "/usr/local/lib/python3.11/dist-packages/keras/src/layers/layer.py:938: UserWarning: Layer 'sequential_4' (of type Sequential) was passed an input with a mask attached to it. However, this layer does not support masking and will therefore destroy the mask information. Downstream layers will not see the mask.\n",
      "  warnings.warn(\n",
      "/usr/local/lib/python3.11/dist-packages/keras/src/layers/layer.py:938: UserWarning: Layer 'sequential_5' (of type Sequential) was passed an input with a mask attached to it. However, this layer does not support masking and will therefore destroy the mask information. Downstream layers will not see the mask.\n",
      "  warnings.warn(\n",
      "/usr/local/lib/python3.11/dist-packages/keras/src/layers/layer.py:938: UserWarning: Layer 'sequential_6' (of type Sequential) was passed an input with a mask attached to it. However, this layer does not support masking and will therefore destroy the mask information. Downstream layers will not see the mask.\n",
      "  warnings.warn(\n",
      "/usr/local/lib/python3.11/dist-packages/keras/src/layers/layer.py:938: UserWarning: Layer 'sequential_7' (of type Sequential) was passed an input with a mask attached to it. However, this layer does not support masking and will therefore destroy the mask information. Downstream layers will not see the mask.\n",
      "  warnings.warn(\n"
     ]
    }
   ],
   "source": [
    "model_path ='models/pretrained/EnYo BaseModel.keras'\n",
    "\n",
    "custom_objects={\n",
    "    'masked_accuracy':masked_accuracy,\n",
    "    'masked_loss':masked_loss\n",
    "}\n",
    "\n",
    "model = tf.keras.models.load_model(model_path, custom_objects=custom_objects)\n",
    "\n",
    "weight_path = 'models/weights/weight_epoch_08.weights.h5' \n",
    "\n",
    "model.load_weights(weight_path)"
   ]
  },
  {
   "cell_type": "code",
   "execution_count": 12,
   "id": "a8a1a9bf",
   "metadata": {
    "execution": {
     "iopub.execute_input": "2025-05-19T15:20:10.037396Z",
     "iopub.status.busy": "2025-05-19T15:20:10.036818Z",
     "iopub.status.idle": "2025-05-19T15:20:10.051768Z",
     "shell.execute_reply": "2025-05-19T15:20:10.051119Z"
    },
    "papermill": {
     "duration": 0.021819,
     "end_time": "2025-05-19T15:20:10.053560",
     "exception": false,
     "start_time": "2025-05-19T15:20:10.031741",
     "status": "completed"
    },
    "tags": []
   },
   "outputs": [],
   "source": [
    "optimizer = tf.keras.optimizers.Adam(0.00001)\n",
    "\n",
    "\n",
    "model.compile(\n",
    "    loss=masked_loss,\n",
    "    optimizer=optimizer,\n",
    "    metrics=[masked_accuracy])"
   ]
  },
  {
   "cell_type": "code",
   "execution_count": 13,
   "id": "e3cdb68c",
   "metadata": {
    "execution": {
     "iopub.execute_input": "2025-05-19T15:20:10.063813Z",
     "iopub.status.busy": "2025-05-19T15:20:10.063452Z",
     "iopub.status.idle": "2025-05-19T15:20:10.067026Z",
     "shell.execute_reply": "2025-05-19T15:20:10.066378Z"
    },
    "papermill": {
     "duration": 0.009603,
     "end_time": "2025-05-19T15:20:10.068234",
     "exception": false,
     "start_time": "2025-05-19T15:20:10.058631",
     "status": "completed"
    },
    "tags": []
   },
   "outputs": [],
   "source": [
    "# debug_dataset = train_set.unbatch().take(512).batch(128)\n",
    "# debug_dataset"
   ]
  },
  {
   "cell_type": "code",
   "execution_count": null,
   "id": "4521b70d",
   "metadata": {
    "execution": {
     "iopub.execute_input": "2025-05-19T15:20:10.078056Z",
     "iopub.status.busy": "2025-05-19T15:20:10.077283Z",
     "iopub.status.idle": "2025-05-19T15:20:10.081804Z",
     "shell.execute_reply": "2025-05-19T15:20:10.081092Z"
    },
    "papermill": {
     "duration": 0.010671,
     "end_time": "2025-05-19T15:20:10.083160",
     "exception": false,
     "start_time": "2025-05-19T15:20:10.072489",
     "status": "completed"
    },
    "tags": []
   },
   "outputs": [],
   "source": [
    "best_model_cbk = tf.keras.callbacks.ModelCheckpoint(\n",
    "    filepath='models/finetuned/EnYo FineTunedBest.keras',\n",
    "    save_weights_only=False,  \n",
    "    monitor='val_masked_accuracy',       \n",
    "    mode='max',              \n",
    "    save_best_only=True, \n",
    "    verbose=1\n",
    ")\n",
    "\n",
    "early_stopping_cbk = tf.keras.callbacks.EarlyStopping(\n",
    "    monitor='val_masked_accuracy',\n",
    "    patience=5,              \n",
    "    min_delta = 0.005,\n",
    "    verbose=1,\n",
    "    mode='max',              \n",
    "    restore_best_weights=True,\n",
    "    start_from_epoch=1\n",
    ")"
   ]
  },
  {
   "cell_type": "code",
   "execution_count": 15,
   "id": "ae55083e",
   "metadata": {
    "execution": {
     "iopub.execute_input": "2025-05-19T15:20:10.098940Z",
     "iopub.status.busy": "2025-05-19T15:20:10.098723Z",
     "iopub.status.idle": "2025-05-19T15:20:10.101984Z",
     "shell.execute_reply": "2025-05-19T15:20:10.101373Z"
    },
    "papermill": {
     "duration": 0.012738,
     "end_time": "2025-05-19T15:20:10.103420",
     "exception": false,
     "start_time": "2025-05-19T15:20:10.090682",
     "status": "completed"
    },
    "tags": []
   },
   "outputs": [],
   "source": [
    "# # freeze the first N decoder layers\n",
    "\n",
    "# # N = 2\n",
    "\n",
    "# for layer in model.layers[1].decoder_layers:\n",
    "#     layer.trainable = True\n",
    "    \n",
    "\n",
    "# # freeze the first all encoder layers\n",
    "\n",
    "# for layer in model.layers[0].encoder_layers:\n",
    "#     layer.trainable = True"
   ]
  },
  {
   "cell_type": "code",
   "execution_count": 16,
   "id": "212d20ef",
   "metadata": {
    "execution": {
     "iopub.execute_input": "2025-05-19T15:20:10.119087Z",
     "iopub.status.busy": "2025-05-19T15:20:10.118864Z",
     "iopub.status.idle": "2025-05-19T15:20:10.122229Z",
     "shell.execute_reply": "2025-05-19T15:20:10.121651Z"
    },
    "papermill": {
     "duration": 0.012432,
     "end_time": "2025-05-19T15:20:10.123299",
     "exception": false,
     "start_time": "2025-05-19T15:20:10.110867",
     "status": "completed"
    },
    "tags": []
   },
   "outputs": [],
   "source": [
    "\n",
    "model.dropout_rate = 0.1"
   ]
  },
  {
   "cell_type": "code",
   "execution_count": null,
   "id": "a366b756",
   "metadata": {
    "execution": {
     "iopub.execute_input": "2025-05-19T15:20:10.132631Z",
     "iopub.status.busy": "2025-05-19T15:20:10.132118Z",
     "iopub.status.idle": "2025-05-19T16:12:11.747727Z",
     "shell.execute_reply": "2025-05-19T16:12:11.747111Z"
    },
    "papermill": {
     "duration": 3121.621738,
     "end_time": "2025-05-19T16:12:11.749121",
     "exception": false,
     "start_time": "2025-05-19T15:20:10.127383",
     "status": "completed"
    },
    "tags": []
   },
   "outputs": [
    {
     "name": "stdout",
     "output_type": "stream",
     "text": [
      "Epoch 1/20\n"
     ]
    },
    {
     "name": "stderr",
     "output_type": "stream",
     "text": [
      "WARNING: All log messages before absl::InitializeLog() is called are written to STDERR\n",
      "I0000 00:00:1747668050.448863      72 service.cc:148] XLA service 0x7f1ca0003e60 initialized for platform CUDA (this does not guarantee that XLA will be used). Devices:\n",
      "I0000 00:00:1747668050.449756      72 service.cc:156]   StreamExecutor device (0): Tesla P100-PCIE-16GB, Compute Capability 6.0\n",
      "W0000 00:00:1747668052.732265      72 assert_op.cc:38] Ignoring Assert operator compile_loss/masked_loss/sparse_categorical_crossentropy/SparseSoftmaxCrossEntropyWithLogits/assert_equal_1/Assert/Assert\n",
      "I0000 00:00:1747668054.145043      72 cuda_dnn.cc:529] Loaded cuDNN version 90300\n",
      "I0000 00:00:1747668074.135930      72 device_compiler.h:188] Compiled cluster using XLA!  This line is logged at most once for the lifetime of the process.\n"
     ]
    },
    {
     "name": "stdout",
     "output_type": "stream",
     "text": [
      "\u001b[1m566/567\u001b[0m \u001b[32m━━━━━━━━━━━━━━━━━━━\u001b[0m\u001b[37m━\u001b[0m \u001b[1m0s\u001b[0m 322ms/step - loss: 2.1523 - masked_accuracy: 0.5809"
     ]
    },
    {
     "name": "stderr",
     "output_type": "stream",
     "text": [
      "W0000 00:00:1747668258.826606      73 assert_op.cc:38] Ignoring Assert operator compile_loss/masked_loss/sparse_categorical_crossentropy/SparseSoftmaxCrossEntropyWithLogits/assert_equal_1/Assert/Assert\n"
     ]
    },
    {
     "name": "stdout",
     "output_type": "stream",
     "text": [
      "\u001b[1m567/567\u001b[0m \u001b[32m━━━━━━━━━━━━━━━━━━━━\u001b[0m\u001b[37m\u001b[0m \u001b[1m0s\u001b[0m 360ms/step - loss: 2.1523 - masked_accuracy: 0.5809"
     ]
    },
    {
     "name": "stderr",
     "output_type": "stream",
     "text": [
      "W0000 00:00:1747668282.109580      70 assert_op.cc:38] Ignoring Assert operator compile_loss/masked_loss/sparse_categorical_crossentropy/SparseSoftmaxCrossEntropyWithLogits/assert_equal_1/Assert/Assert\n",
      "W0000 00:00:1747668288.621831      72 assert_op.cc:38] Ignoring Assert operator compile_loss/masked_loss/sparse_categorical_crossentropy/SparseSoftmaxCrossEntropyWithLogits/assert_equal_1/Assert/Assert\n"
     ]
    },
    {
     "name": "stdout",
     "output_type": "stream",
     "text": [
      "\n",
      "Epoch 1: val_masked_accuracy improved from -inf to 0.38637, saving model to best_model.keras\n",
      "\u001b[1m567/567\u001b[0m \u001b[32m━━━━━━━━━━━━━━━━━━━━\u001b[0m\u001b[37m\u001b[0m \u001b[1m281s\u001b[0m 382ms/step - loss: 2.1522 - masked_accuracy: 0.5809 - val_loss: 3.8307 - val_masked_accuracy: 0.3864\n",
      "Epoch 2/20\n",
      "\u001b[1m567/567\u001b[0m \u001b[32m━━━━━━━━━━━━━━━━━━━━\u001b[0m\u001b[37m\u001b[0m \u001b[1m0s\u001b[0m 322ms/step - loss: 2.1196 - masked_accuracy: 0.5852\n",
      "Epoch 2: val_masked_accuracy improved from 0.38637 to 0.39261, saving model to best_model.keras\n",
      "\u001b[1m567/567\u001b[0m \u001b[32m━━━━━━━━━━━━━━━━━━━━\u001b[0m\u001b[37m\u001b[0m \u001b[1m190s\u001b[0m 334ms/step - loss: 2.1195 - masked_accuracy: 0.5852 - val_loss: 3.7644 - val_masked_accuracy: 0.3926\n",
      "Epoch 3/20\n",
      "\u001b[1m567/567\u001b[0m \u001b[32m━━━━━━━━━━━━━━━━━━━━\u001b[0m\u001b[37m\u001b[0m \u001b[1m0s\u001b[0m 322ms/step - loss: 2.0893 - masked_accuracy: 0.5886\n",
      "Epoch 3: val_masked_accuracy improved from 0.39261 to 0.39739, saving model to best_model.keras\n",
      "\u001b[1m567/567\u001b[0m \u001b[32m━━━━━━━━━━━━━━━━━━━━\u001b[0m\u001b[37m\u001b[0m \u001b[1m189s\u001b[0m 334ms/step - loss: 2.0893 - masked_accuracy: 0.5886 - val_loss: 3.7200 - val_masked_accuracy: 0.3974\n",
      "Epoch 4/20\n",
      "\u001b[1m567/567\u001b[0m \u001b[32m━━━━━━━━━━━━━━━━━━━━\u001b[0m\u001b[37m\u001b[0m \u001b[1m0s\u001b[0m 322ms/step - loss: 2.0515 - masked_accuracy: 0.5938\n",
      "Epoch 4: val_masked_accuracy improved from 0.39739 to 0.40100, saving model to best_model.keras\n",
      "\u001b[1m567/567\u001b[0m \u001b[32m━━━━━━━━━━━━━━━━━━━━\u001b[0m\u001b[37m\u001b[0m \u001b[1m189s\u001b[0m 334ms/step - loss: 2.0515 - masked_accuracy: 0.5938 - val_loss: 3.6855 - val_masked_accuracy: 0.4010\n",
      "Epoch 5/20\n",
      "\u001b[1m567/567\u001b[0m \u001b[32m━━━━━━━━━━━━━━━━━━━━\u001b[0m\u001b[37m\u001b[0m \u001b[1m0s\u001b[0m 322ms/step - loss: 2.0380 - masked_accuracy: 0.5953\n",
      "Epoch 5: val_masked_accuracy improved from 0.40100 to 0.40382, saving model to best_model.keras\n",
      "\u001b[1m567/567\u001b[0m \u001b[32m━━━━━━━━━━━━━━━━━━━━\u001b[0m\u001b[37m\u001b[0m \u001b[1m189s\u001b[0m 334ms/step - loss: 2.0380 - masked_accuracy: 0.5953 - val_loss: 3.6566 - val_masked_accuracy: 0.4038\n",
      "Epoch 6/20\n",
      "\u001b[1m567/567\u001b[0m \u001b[32m━━━━━━━━━━━━━━━━━━━━\u001b[0m\u001b[37m\u001b[0m \u001b[1m0s\u001b[0m 322ms/step - loss: 2.0247 - masked_accuracy: 0.5961\n",
      "Epoch 6: val_masked_accuracy improved from 0.40382 to 0.40592, saving model to best_model.keras\n",
      "\u001b[1m567/567\u001b[0m \u001b[32m━━━━━━━━━━━━━━━━━━━━\u001b[0m\u001b[37m\u001b[0m \u001b[1m189s\u001b[0m 334ms/step - loss: 2.0247 - masked_accuracy: 0.5961 - val_loss: 3.6333 - val_masked_accuracy: 0.4059\n",
      "Epoch 7/20\n",
      "\u001b[1m567/567\u001b[0m \u001b[32m━━━━━━━━━━━━━━━━━━━━\u001b[0m\u001b[37m\u001b[0m \u001b[1m0s\u001b[0m 322ms/step - loss: 2.0169 - masked_accuracy: 0.5967\n",
      "Epoch 7: val_masked_accuracy improved from 0.40592 to 0.40723, saving model to best_model.keras\n",
      "\u001b[1m567/567\u001b[0m \u001b[32m━━━━━━━━━━━━━━━━━━━━\u001b[0m\u001b[37m\u001b[0m \u001b[1m189s\u001b[0m 334ms/step - loss: 2.0169 - masked_accuracy: 0.5967 - val_loss: 3.6120 - val_masked_accuracy: 0.4072\n",
      "Epoch 8/20\n",
      "\u001b[1m567/567\u001b[0m \u001b[32m━━━━━━━━━━━━━━━━━━━━\u001b[0m\u001b[37m\u001b[0m \u001b[1m0s\u001b[0m 322ms/step - loss: 2.0036 - masked_accuracy: 0.5980\n",
      "Epoch 8: val_masked_accuracy improved from 0.40723 to 0.40871, saving model to best_model.keras\n",
      "\u001b[1m567/567\u001b[0m \u001b[32m━━━━━━━━━━━━━━━━━━━━\u001b[0m\u001b[37m\u001b[0m \u001b[1m189s\u001b[0m 334ms/step - loss: 2.0036 - masked_accuracy: 0.5980 - val_loss: 3.5931 - val_masked_accuracy: 0.4087\n",
      "Epoch 9/20\n",
      "\u001b[1m567/567\u001b[0m \u001b[32m━━━━━━━━━━━━━━━━━━━━\u001b[0m\u001b[37m\u001b[0m \u001b[1m0s\u001b[0m 322ms/step - loss: 1.9836 - masked_accuracy: 0.6004\n",
      "Epoch 9: val_masked_accuracy improved from 0.40871 to 0.41027, saving model to best_model.keras\n",
      "\u001b[1m567/567\u001b[0m \u001b[32m━━━━━━━━━━━━━━━━━━━━\u001b[0m\u001b[37m\u001b[0m \u001b[1m189s\u001b[0m 333ms/step - loss: 1.9836 - masked_accuracy: 0.6004 - val_loss: 3.5771 - val_masked_accuracy: 0.4103\n",
      "Epoch 10/20\n",
      "\u001b[1m567/567\u001b[0m \u001b[32m━━━━━━━━━━━━━━━━━━━━\u001b[0m\u001b[37m\u001b[0m \u001b[1m0s\u001b[0m 322ms/step - loss: 1.9809 - masked_accuracy: 0.6001\n",
      "Epoch 10: val_masked_accuracy improved from 0.41027 to 0.41118, saving model to best_model.keras\n",
      "\u001b[1m567/567\u001b[0m \u001b[32m━━━━━━━━━━━━━━━━━━━━\u001b[0m\u001b[37m\u001b[0m \u001b[1m189s\u001b[0m 334ms/step - loss: 1.9809 - masked_accuracy: 0.6001 - val_loss: 3.5654 - val_masked_accuracy: 0.4112\n",
      "Epoch 11/20\n",
      "\u001b[1m567/567\u001b[0m \u001b[32m━━━━━━━━━━━━━━━━━━━━\u001b[0m\u001b[37m\u001b[0m \u001b[1m0s\u001b[0m 322ms/step - loss: 1.9652 - masked_accuracy: 0.6024\n",
      "Epoch 11: val_masked_accuracy improved from 0.41118 to 0.41228, saving model to best_model.keras\n",
      "\u001b[1m567/567\u001b[0m \u001b[32m━━━━━━━━━━━━━━━━━━━━\u001b[0m\u001b[37m\u001b[0m \u001b[1m189s\u001b[0m 334ms/step - loss: 1.9652 - masked_accuracy: 0.6024 - val_loss: 3.5526 - val_masked_accuracy: 0.4123\n",
      "Epoch 12/20\n",
      "\u001b[1m567/567\u001b[0m \u001b[32m━━━━━━━━━━━━━━━━━━━━\u001b[0m\u001b[37m\u001b[0m \u001b[1m0s\u001b[0m 321ms/step - loss: 1.9623 - masked_accuracy: 0.6025\n",
      "Epoch 12: val_masked_accuracy improved from 0.41228 to 0.41279, saving model to best_model.keras\n",
      "\u001b[1m567/567\u001b[0m \u001b[32m━━━━━━━━━━━━━━━━━━━━\u001b[0m\u001b[37m\u001b[0m \u001b[1m189s\u001b[0m 333ms/step - loss: 1.9623 - masked_accuracy: 0.6025 - val_loss: 3.5424 - val_masked_accuracy: 0.4128\n",
      "Epoch 13/20\n",
      "\u001b[1m567/567\u001b[0m \u001b[32m━━━━━━━━━━━━━━━━━━━━\u001b[0m\u001b[37m\u001b[0m \u001b[1m0s\u001b[0m 321ms/step - loss: 1.9492 - masked_accuracy: 0.6037\n",
      "Epoch 13: val_masked_accuracy improved from 0.41279 to 0.41380, saving model to best_model.keras\n",
      "\u001b[1m567/567\u001b[0m \u001b[32m━━━━━━━━━━━━━━━━━━━━\u001b[0m\u001b[37m\u001b[0m \u001b[1m189s\u001b[0m 333ms/step - loss: 1.9492 - masked_accuracy: 0.6037 - val_loss: 3.5271 - val_masked_accuracy: 0.4138\n",
      "Epoch 14/20\n",
      "\u001b[1m567/567\u001b[0m \u001b[32m━━━━━━━━━━━━━━━━━━━━\u001b[0m\u001b[37m\u001b[0m \u001b[1m0s\u001b[0m 321ms/step - loss: 1.9372 - masked_accuracy: 0.6048\n",
      "Epoch 14: val_masked_accuracy improved from 0.41380 to 0.41475, saving model to best_model.keras\n",
      "\u001b[1m567/567\u001b[0m \u001b[32m━━━━━━━━━━━━━━━━━━━━\u001b[0m\u001b[37m\u001b[0m \u001b[1m189s\u001b[0m 333ms/step - loss: 1.9372 - masked_accuracy: 0.6048 - val_loss: 3.5213 - val_masked_accuracy: 0.4147\n",
      "Epoch 15/20\n",
      "\u001b[1m567/567\u001b[0m \u001b[32m━━━━━━━━━━━━━━━━━━━━\u001b[0m\u001b[37m\u001b[0m \u001b[1m0s\u001b[0m 321ms/step - loss: 1.9243 - masked_accuracy: 0.6073\n",
      "Epoch 15: val_masked_accuracy improved from 0.41475 to 0.41510, saving model to best_model.keras\n",
      "\u001b[1m567/567\u001b[0m \u001b[32m━━━━━━━━━━━━━━━━━━━━\u001b[0m\u001b[37m\u001b[0m \u001b[1m189s\u001b[0m 333ms/step - loss: 1.9244 - masked_accuracy: 0.6073 - val_loss: 3.5108 - val_masked_accuracy: 0.4151\n",
      "Epoch 16/20\n",
      "\u001b[1m567/567\u001b[0m \u001b[32m━━━━━━━━━━━━━━━━━━━━\u001b[0m\u001b[37m\u001b[0m \u001b[1m0s\u001b[0m 321ms/step - loss: 1.9191 - masked_accuracy: 0.6065\n",
      "Epoch 16: val_masked_accuracy improved from 0.41510 to 0.41631, saving model to best_model.keras\n",
      "\u001b[1m567/567\u001b[0m \u001b[32m━━━━━━━━━━━━━━━━━━━━\u001b[0m\u001b[37m\u001b[0m \u001b[1m189s\u001b[0m 333ms/step - loss: 1.9191 - masked_accuracy: 0.6065 - val_loss: 3.5018 - val_masked_accuracy: 0.4163\n",
      "Epoch 16: early stopping\n",
      "Restoring model weights from the end of the best epoch: 11.\n"
     ]
    }
   ],
   "source": [
    "model.fit(train_set, epochs=20,\n",
    "                    validation_data=valid_set,\n",
    "                    callbacks=[best_model_cbk, early_stopping_cbk]\n",
    "                   )\n",
    "\n",
    "model.save(\"models/pretrained/EnYo FineTunedBase.keras\")"
   ]
  }
 ],
 "metadata": {
  "kaggle": {
   "accelerator": "gpu",
   "dataSources": [
    {
     "datasetId": 2974749,
     "sourceId": 5121754,
     "sourceType": "datasetVersion"
    },
    {
     "datasetId": 6607180,
     "sourceId": 10668170,
     "sourceType": "datasetVersion"
    },
    {
     "datasetId": 7385320,
     "sourceId": 11763979,
     "sourceType": "datasetVersion"
    },
    {
     "datasetId": 7456072,
     "sourceId": 11865422,
     "sourceType": "datasetVersion"
    },
    {
     "sourceId": 240503017,
     "sourceType": "kernelVersion"
    },
    {
     "isSourceIdPinned": true,
     "modelId": 344174,
     "modelInstanceId": 323390,
     "sourceId": 392814,
     "sourceType": "modelInstanceVersion"
    },
    {
     "isSourceIdPinned": true,
     "modelId": 345773,
     "modelInstanceId": 324938,
     "sourceId": 395673,
     "sourceType": "modelInstanceVersion"
    }
   ],
   "isGpuEnabled": true,
   "isInternetEnabled": true,
   "language": "python",
   "sourceType": "notebook"
  },
  "kernelspec": {
   "display_name": "Python 3",
   "language": "python",
   "name": "python3"
  },
  "language_info": {
   "codemirror_mode": {
    "name": "ipython",
    "version": 3
   },
   "file_extension": ".py",
   "mimetype": "text/x-python",
   "name": "python",
   "nbconvert_exporter": "python",
   "pygments_lexer": "ipython3",
   "version": "3.11.11"
  },
  "papermill": {
   "default_parameters": {},
   "duration": 3179.695189,
   "end_time": "2025-05-19T16:12:15.944953",
   "environment_variables": {},
   "exception": null,
   "input_path": "__notebook__.ipynb",
   "output_path": "__notebook__.ipynb",
   "parameters": {},
   "start_time": "2025-05-19T15:19:16.249764",
   "version": "2.6.0"
  }
 },
 "nbformat": 4,
 "nbformat_minor": 5
}
