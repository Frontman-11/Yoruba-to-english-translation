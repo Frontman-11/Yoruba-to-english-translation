{
 "cells": [
  {
   "cell_type": "code",
   "execution_count": null,
   "id": "ebcf3eb2",
   "metadata": {
    "_cell_guid": "7dbcb224-5b22-4498-95ff-906b3461b5f1",
    "_uuid": "fff3cca8-b8ad-4121-a695-504eb803727d",
    "collapsed": false,
    "execution": {
     "iopub.execute_input": "2025-05-25T23:42:03.172386Z",
     "iopub.status.busy": "2025-05-25T23:42:03.171821Z",
     "iopub.status.idle": "2025-05-25T23:42:22.503843Z",
     "shell.execute_reply": "2025-05-25T23:42:22.502531Z"
    },
    "jupyter": {
     "outputs_hidden": false
    },
    "papermill": {
     "duration": 19.341292,
     "end_time": "2025-05-25T23:42:22.505956",
     "exception": false,
     "start_time": "2025-05-25T23:42:03.164664",
     "status": "completed"
    },
    "tags": []
   },
   "outputs": [],
   "source": [
    "# import os\n",
    "import re\n",
    "import sys\n",
    "import pandas as pd\n",
    "import sentencepiece as spm\n",
    "from read_file import ReadFile"
   ]
  },
  {
   "cell_type": "code",
   "execution_count": 3,
   "id": "c51b41e9",
   "metadata": {
    "execution": {
     "iopub.execute_input": "2025-05-25T23:42:22.515860Z",
     "iopub.status.busy": "2025-05-25T23:42:22.515173Z",
     "iopub.status.idle": "2025-05-25T23:42:22.519878Z",
     "shell.execute_reply": "2025-05-25T23:42:22.518667Z"
    },
    "papermill": {
     "duration": 0.011287,
     "end_time": "2025-05-25T23:42:22.521622",
     "exception": false,
     "start_time": "2025-05-25T23:42:22.510335",
     "status": "completed"
    },
    "tags": []
   },
   "outputs": [],
   "source": [
    "# os.remove('/kaggle/working/english_corpus.txt')"
   ]
  },
  {
   "cell_type": "code",
   "execution_count": 4,
   "id": "4c415442",
   "metadata": {
    "execution": {
     "iopub.execute_input": "2025-05-25T23:42:22.531121Z",
     "iopub.status.busy": "2025-05-25T23:42:22.530767Z",
     "iopub.status.idle": "2025-05-25T23:42:22.535151Z",
     "shell.execute_reply": "2025-05-25T23:42:22.534148Z"
    },
    "papermill": {
     "duration": 0.011396,
     "end_time": "2025-05-25T23:42:22.537169",
     "exception": false,
     "start_time": "2025-05-25T23:42:22.525773",
     "status": "completed"
    },
    "tags": []
   },
   "outputs": [],
   "source": [
    "reader = ReadFile(dropna=True, drop_duplicates=False, random_state=42)"
   ]
  },
  {
   "cell_type": "code",
   "execution_count": null,
   "id": "e76ff2ab",
   "metadata": {
    "execution": {
     "iopub.execute_input": "2025-05-25T23:42:22.546961Z",
     "iopub.status.busy": "2025-05-25T23:42:22.546603Z",
     "iopub.status.idle": "2025-05-25T23:42:29.315059Z",
     "shell.execute_reply": "2025-05-25T23:42:29.313703Z"
    },
    "papermill": {
     "duration": 6.77712,
     "end_time": "2025-05-25T23:42:29.318405",
     "exception": false,
     "start_time": "2025-05-25T23:42:22.541285",
     "status": "completed"
    },
    "tags": []
   },
   "outputs": [],
   "source": [
    "opus_file = 'data/train/opus_yo_en.tsv'        \n",
    "raw_file = 'data//train/raw_yo_en.tsv'                \n",
    "JW300 = 'data/train/JW300_en_yo.csv'                 \n",
    "bible = 'data/train/bible_yo_en.csv'\n",
    "org_set = 'data/train/Train.csv'                  \n",
    "train = 'data/dev/train.tsv'\n",
    "\n",
    "\n",
    "filepath=[JW300, bible, org_set, opus_file, raw_file, train]\n",
    "\n",
    "df = reader.read_file(filepath=filepath, delimiter=',')"
   ]
  },
  {
   "cell_type": "code",
   "execution_count": 6,
   "id": "90996469",
   "metadata": {
    "execution": {
     "iopub.execute_input": "2025-05-25T23:42:29.328329Z",
     "iopub.status.busy": "2025-05-25T23:42:29.327935Z",
     "iopub.status.idle": "2025-05-25T23:42:33.661580Z",
     "shell.execute_reply": "2025-05-25T23:42:33.660350Z"
    },
    "papermill": {
     "duration": 4.340943,
     "end_time": "2025-05-25T23:42:33.663569",
     "exception": false,
     "start_time": "2025-05-25T23:42:29.322626",
     "status": "completed"
    },
    "tags": []
   },
   "outputs": [],
   "source": [
    "df.to_csv('yo_en_corpus.txt', index=False, header=False, sep='\\n')"
   ]
  },
  {
   "cell_type": "code",
   "execution_count": 7,
   "id": "a11f4e91",
   "metadata": {
    "execution": {
     "iopub.execute_input": "2025-05-25T23:42:33.673375Z",
     "iopub.status.busy": "2025-05-25T23:42:33.672984Z",
     "iopub.status.idle": "2025-05-25T23:42:36.115136Z",
     "shell.execute_reply": "2025-05-25T23:42:36.113846Z"
    },
    "papermill": {
     "duration": 2.449394,
     "end_time": "2025-05-25T23:42:36.117194",
     "exception": false,
     "start_time": "2025-05-25T23:42:33.667800",
     "status": "completed"
    },
    "tags": []
   },
   "outputs": [
    {
     "data": {
      "text/plain": [
       "122456461"
      ]
     },
     "execution_count": 7,
     "metadata": {},
     "output_type": "execute_result"
    }
   ],
   "source": [
    "with open('/kaggle/working/yo_en_corpus.txt', mode='r') as f:\n",
    "    yo_en_txt = f.read()\n",
    "\n",
    "len(yo_en_txt)"
   ]
  },
  {
   "cell_type": "code",
   "execution_count": 8,
   "id": "f71191f5",
   "metadata": {
    "execution": {
     "iopub.execute_input": "2025-05-25T23:42:36.127309Z",
     "iopub.status.busy": "2025-05-25T23:42:36.126835Z",
     "iopub.status.idle": "2025-05-25T23:42:43.062986Z",
     "shell.execute_reply": "2025-05-25T23:42:43.061509Z"
    },
    "papermill": {
     "duration": 6.943519,
     "end_time": "2025-05-25T23:42:43.065102",
     "exception": false,
     "start_time": "2025-05-25T23:42:36.121583",
     "status": "completed"
    },
    "tags": []
   },
   "outputs": [
    {
     "name": "stdout",
     "output_type": "stream",
     "text": [
      "Total unique English words: 224841\n",
      "Total unique Yoruba words: 192436\n",
      "Total unique words: 417277\n"
     ]
    }
   ],
   "source": [
    "# Tokenize and find unique words for each column\n",
    "unique_english_words = set(\" \".join(df['English']).split())\n",
    "unique_yoruba_words = set(\" \".join(df['Yoruba']).split())\n",
    "\n",
    "# Calculate the sum of unique words\n",
    "sum_english_unique_words = len(unique_english_words)\n",
    "sum_yoruba_unique_words = len(unique_yoruba_words)\n",
    "\n",
    "# Find the real total (union of both sets)\n",
    "union = len(unique_english_words.union(unique_yoruba_words))\n",
    "intersection = len(unique_english_words.intersection(unique_yoruba_words))\n",
    "\n",
    "print(f\"Total unique English words: {sum_english_unique_words - intersection}\")\n",
    "print(f\"Total unique Yoruba words: {sum_yoruba_unique_words - intersection}\")\n",
    "print(f\"Total unique words: {union - intersection}\")"
   ]
  },
  {
   "cell_type": "markdown",
   "id": "8f96429c",
   "metadata": {
    "papermill": {
     "duration": 0.003987,
     "end_time": "2025-05-25T23:42:43.073572",
     "exception": false,
     "start_time": "2025-05-25T23:42:43.069585",
     "status": "completed"
    },
    "tags": []
   },
   "source": [
    "## Withouth new dataset\n",
    "\n",
    "Total unique English words: 153681\n",
    "\n",
    "Total unique Yoruba words: 101889\n",
    "\n",
    "Total unique words: 255570\n",
    "\n",
    "\n",
    "## With new dataset\n",
    "\n",
    "Total unique English words: 224841\n",
    "\n",
    "Total unique Yoruba words: 192436\n",
    "\n",
    "Total unique words: 417277"
   ]
  },
  {
   "cell_type": "code",
   "execution_count": 9,
   "id": "7fa647f9",
   "metadata": {
    "execution": {
     "iopub.execute_input": "2025-05-25T23:42:43.083593Z",
     "iopub.status.busy": "2025-05-25T23:42:43.083060Z",
     "iopub.status.idle": "2025-05-25T23:44:17.309627Z",
     "shell.execute_reply": "2025-05-25T23:44:17.308425Z"
    },
    "papermill": {
     "duration": 94.235078,
     "end_time": "2025-05-25T23:44:17.312861",
     "exception": false,
     "start_time": "2025-05-25T23:42:43.077783",
     "status": "completed"
    },
    "tags": []
   },
   "outputs": [],
   "source": [
    "input_file = '/kaggle/working/yo_en_corpus.txt'\n",
    "model_prefix = '/kaggle/working/yo_en_bpe'\n",
    "\n",
    "\n",
    "spm.SentencePieceTrainer.train(\n",
    "    input=input_file,\n",
    "    model_prefix=model_prefix,\n",
    "    vocab_size=32_000,\n",
    "    character_coverage=1.0,\n",
    "    max_sentence_length=999999,\n",
    "    model_type='bpe',\n",
    "    pad_id=0,\n",
    "    unk_id=1,\n",
    "    bos_id=2,\n",
    "    eos_id=3,\n",
    "    pad_piece='<PAD>',\n",
    "    unk_piece='<UNK>',\n",
    "    bos_piece='<BOS>',\n",
    "    eos_piece='<EOS>',\n",
    "    add_dummy_prefix=True\n",
    ")"
   ]
  },
  {
   "cell_type": "code",
   "execution_count": 10,
   "id": "cf6272c9",
   "metadata": {
    "execution": {
     "iopub.execute_input": "2025-05-25T23:44:17.335083Z",
     "iopub.status.busy": "2025-05-25T23:44:17.334619Z",
     "iopub.status.idle": "2025-05-25T23:44:17.406796Z",
     "shell.execute_reply": "2025-05-25T23:44:17.405512Z"
    },
    "papermill": {
     "duration": 0.090882,
     "end_time": "2025-05-25T23:44:17.408644",
     "exception": false,
     "start_time": "2025-05-25T23:44:17.317762",
     "status": "completed"
    },
    "tags": []
   },
   "outputs": [
    {
     "name": "stdout",
     "output_type": "stream",
     "text": [
      "Tokens: ['▁Mr', '.', '▁B', 'am', 'gb', 'ose', '▁who', '▁stressed', '▁that', '▁as', '▁a', '▁member', '▁of', '▁the', '▁House', ',', '▁he', '▁has', '▁been', '▁able', '▁to', '▁also', '▁affect', '▁his', '▁constit', 'u', 'ents', '▁positively', '▁though', '▁various', '▁empower', 'ment', '▁program', 'mes', ',', '▁ranging', '▁from', '▁agriculture', ',', '▁crafts', '▁and', '▁many', '▁artis', 'ans', '▁within', '▁Bad', 'ag', 'ry', '▁Federal', '▁Cons', 'tit', 'u', 'ency', '.', '▁Mr', '.', '▁B', 'am', 'gb', 'ose', '▁thanked', '▁Bad', 'ag', 'rians', '▁for', '▁giving', '▁him', '▁the', '▁opportunity', '▁to', '▁serve', '▁and', '▁promised', '▁to', '▁continue', '▁to', '▁deliver', '▁more', '▁div', 'id', 'ends', '▁to', '▁his', '▁people', '.', '▁Olù', 'dí', 'je', '▁fún', '▁ipò', '▁asòfin', '▁àgbà', '▁nínú', '▁ẹgbẹ́', ',', '▁All', '▁Progress', 'ives', '▁Congress', '▁(', 'AP', 'C', '),', 'as', 'òfin', '▁Smart', '▁Ade', 'y', 'emi', ',', 'ni', '▁ó', '▁já', 'wé', '▁olúborí', '▁nínú', '▁ètò', '▁ìdìbò', '▁asòfin', '▁tó', '▁wáyé', '▁ní', '▁apá', '▁ilà', '▁G', 'ú', 'sù', '▁ní', '▁ìpínlẹ̀', '▁K', 'ogi', '.', '▁The', '▁candid', 'ate', '▁of', '▁the', '▁All', '▁Progress', 'ives', '▁Congress', '▁(', 'AP', 'C', '),', '▁Sen', 'ator', '▁Smart', '▁Ade', 'y', 'emi', ',', '▁has', '▁won', '▁the', '▁K', 'ogi', '▁West', '▁sen', 'at', 'orial', '▁district', '▁election', '.', '▁Kù', 'kù', 'té', '▁kan', '▁kì', '▁í', '▁f', 'ọ́ni', '▁lé', 'po', '▁lẹ́ẹ̀mejì', '.', '▁No', '▁one', '▁st', 'ump', '▁can', '▁break', '▁one', \"'\", 's', '▁oil', '-', 'pot', '▁twice', '.', '▁T', 'all', ',', '▁tall', ',', '▁tall', 'ing', ',', '▁talking', ',', '▁tall', 'er', ',', '▁tall', 'est', ',', '▁speak', ',', '▁speaker', ',', '▁speaking', '▁È', 'è', 'kàn', '▁ẹgbẹ́', '▁Af', 'en', 'if', 'ere', '▁ilẹ̀', '▁Yoruba', ',', '▁Pa', '▁Ay', 'o', '▁Ade', 'ban', 'jo', '▁ti', '▁jáde', '▁láyé', '.', '▁Ní', '▁òwúrọ̀', '▁ọjọ́', ',', '▁Ẹ', 'tì', ',', '▁ọjọ́', '▁Kẹ', 'rìn', 'lá', ',', '▁ọdún', '▁202', '4', '▁ni', '▁Ade', 'ban', 'jo', '▁dá', 'gbé', 're', '▁fá', 'yé', '▁lẹ́ni', '▁ọdún', '▁mẹ́rìn', 'dínlọ́gọ́rùn', '-', 'ún', '▁(9', '6', ').', '▁Agb', 'ẹnusọ', '▁ẹgbẹ́', '▁Af', 'en', 'if', 'ere', ',', '▁J', 'are', '▁Aj', 'ayi', '▁ló', '▁fìdí', '▁ìròyìn', '▁náà', '▁múlẹ̀', '▁fún', '▁BBC', '▁News', '▁Yorùbá', '.', '▁Ilé', '▁rẹ̀', '▁tó', '▁wà', '▁ní', '▁agbègbè', '▁L', 'ek', 'ki', ',', '▁ìpínlẹ̀', '▁E', 'ko', '▁ni', '▁Ade', 'ban', 'jo', '▁dákẹ́', '▁sí', '.', '▁Pa', '▁Ade', 'ban', 'jo', '▁bẹ̀rẹ̀', '▁sí', '▁ní', '▁darí', '▁ẹgbẹ́', '▁Af', 'en', 'if', 'ere', '▁nígbà', '▁tí', '▁ààrẹ', '▁ẹgbẹ́', '▁náà', ',', '▁Bàbá', '▁F', 'as', 'oran', 'ti', '▁ní', '▁kí', '▁ó', '▁máa', '▁del', 'é', '▁fún', '▁òun', '▁látàrí', '▁ọjọ́', '▁orí', '▁òun', '.']\n",
      "Decoded Text: Mr. Bamgbose who stressed that as a member of the House, he has been able to also affect his constituents positively though various empowerment programmes, ranging from agriculture, crafts and many artisans within Badagry Federal Constituency. Mr. Bamgbose thanked Badagrians for giving him the opportunity to serve and promised to continue to deliver more dividends to his people. Olùdíje fún ipò asòfin àgbà nínú ẹgbẹ́, All Progressives Congress (APC),asòfin Smart Adeyemi,ni ó jáwé olúborí nínú ètò ìdìbò asòfin tó wáyé ní apá ilà Gúsù ní ìpínlẹ̀ Kogi. The candidate of the All Progressives Congress (APC), Senator Smart Adeyemi, has won the Kogi West senatorial district election. Kùkùté kan kì í fọ́ni lépo lẹ́ẹ̀mejì. No one stump can break one's oil-pot twice. Tall, tall, talling, talking, taller, tallest, speak, speaker, speaking Èèkàn ẹgbẹ́ Afenifere ilẹ̀ Yoruba, Pa Ayo Adebanjo ti jáde láyé. Ní òwúrọ̀ ọjọ́, Ẹtì, ọjọ́ Kẹrìnlá, ọdún 2024 ni Adebanjo dágbére fáyé lẹ́ni ọdún mẹ́rìndínlọ́gọ́rùn-ún (96). Agbẹnusọ ẹgbẹ́ Afenifere, Jare Ajayi ló fìdí ìròyìn náà múlẹ̀ fún BBC News Yorùbá. Ilé rẹ̀ tó wà ní agbègbè Lekki, ìpínlẹ̀ Eko ni Adebanjo dákẹ́ sí. Pa Adebanjo bẹ̀rẹ̀ sí ní darí ẹgbẹ́ Afenifere nígbà tí ààrẹ ẹgbẹ́ náà, Bàbá Fasoranti ní kí ó máa delé fún òun látàrí ọjọ́ orí òun.\n"
     ]
    }
   ],
   "source": [
    "# Load your trained tokenizer model\n",
    "tokenizer = spm.SentencePieceProcessor(model_file=\"/kaggle/working/yo_en_bpe.model\")\n",
    "\n",
    "# Test with a sample text\n",
    "sample_text = \"\"\"Mr. Bamgbose who stressed that as a member of the House, he has been able to also affect his constituents positively though various empowerment programmes, ranging from agriculture, crafts and many artisans within Badagry Federal Constituency. Mr. Bamgbose thanked Badagrians for giving him the opportunity to serve and promised to continue to deliver more dividends to his people.\\nOlùdíje fún ipò asòfin àgbà nínú ẹgbẹ́, All Progressives Congress (APC),asòfin  Smart Adeyemi,ni ó jáwé olúborí nínú ètò ìdìbò asòfin tó wáyé ní apá ilà Gúsù ní ìpínlẹ̀ Kogi.\\nThe candidate of the All Progressives Congress (APC), Senator Smart Adeyemi, has won the Kogi West senatorial district election.\\nKùkùté kan kì í fọ́ni lépo lẹ́ẹ̀mejì.\\nNo one stump can break one's oil-pot twice.\n",
    "Tall, tall, talling, talking, taller, tallest, speak, speaker, speaking\n",
    "Èèkàn ẹgbẹ́ Afenifere ilẹ̀ Yoruba, Pa Ayo Adebanjo ti jáde láyé.\n",
    "\n",
    "Ní òwúrọ̀ ọjọ́, Ẹtì, ọjọ́ Kẹrìnlá, ọdún 2024 ni Adebanjo dágbére fáyé lẹ́ni ọdún mẹ́rìndínlọ́gọ́rùn-ún (96).\n",
    "\n",
    "Agbẹnusọ ẹgbẹ́ Afenifere, Jare Ajayi ló fìdí ìròyìn náà múlẹ̀ fún BBC News Yorùbá.\n",
    "\n",
    "Ilé rẹ̀ tó wà ní agbègbè Lekki, ìpínlẹ̀ Eko ni Adebanjo dákẹ́ sí.\n",
    "\n",
    "Pa Adebanjo bẹ̀rẹ̀ sí ní darí ẹgbẹ́ Afenifere nígbà tí ààrẹ ẹgbẹ́ náà, Bàbá Fasoranti ní kí ó máa delé fún òun látàrí ọjọ́ orí òun.\n",
    "\"\"\"\n",
    "tokens = tokenizer.encode(sample_text, out_type=str)  # Get tokenized output (as subwords)\n",
    "print(\"Tokens:\", tokens)\n",
    "\n",
    "# Decode the tokens back to text\n",
    "decoded_text = tokenizer.decode(tokens, out_type=str)\n",
    "print(\"Decoded Text:\", decoded_text)"
   ]
  },
  {
   "cell_type": "code",
   "execution_count": 11,
   "id": "110ad56c",
   "metadata": {
    "execution": {
     "iopub.execute_input": "2025-05-25T23:44:17.420331Z",
     "iopub.status.busy": "2025-05-25T23:44:17.419928Z",
     "iopub.status.idle": "2025-05-25T23:44:17.511437Z",
     "shell.execute_reply": "2025-05-25T23:44:17.510251Z"
    },
    "papermill": {
     "duration": 0.099945,
     "end_time": "2025-05-25T23:44:17.513176",
     "exception": false,
     "start_time": "2025-05-25T23:44:17.413231",
     "status": "completed"
    },
    "tags": []
   },
   "outputs": [
    {
     "name": "stdout",
     "output_type": "stream",
     "text": [
      "Tokens: ['▁Mr', '.', '▁B', 'am', 'gb', 'ose', '▁who', '▁stressed', '▁that', '▁as', '▁a', '▁member', '▁of', '▁the', '▁House', ',', '▁he', '▁has', '▁been', '▁able', '▁to', '▁also', '▁affect', '▁his', '▁constit', 'u', 'ents', '▁positively', '▁though', '▁various', '▁empower', 'ment', '▁program', 'mes', ',', '▁ranging', '▁from', '▁agriculture', ',', '▁crafts', '▁and', '▁many', '▁artis', 'ans', '▁within', '▁Bad', 'ag', 'ry', '▁Federal', '▁Cons', 'tit', 'u', 'ency', '.', '▁Mr', '.', '▁B', 'am', 'gb', 'ose', '▁thanked', '▁Bad', 'ag', 'rians', '▁for', '▁giving', '▁him', '▁the', '▁opportunity', '▁to', '▁serve', '▁and', '▁promised', '▁to', '▁continue', '▁to', '▁deliver', '▁more', '▁div', 'id', 'ends', '▁to', '▁his', '▁people', '.', '▁Olù', 'dí', 'je', '▁fún', '▁ipò', '▁asòfin', '▁àgbà', '▁nínú', '▁ẹgbẹ́', ',', '▁All', '▁Progress', 'ives', '▁Congress', '▁(', 'AP', 'C', '),', 'as', 'òfin', '▁Smart', '▁Ade', 'y', 'emi', ',', 'ni', '▁ó', '▁já', 'wé', '▁olúborí', '▁nínú', '▁ètò', '▁ìdìbò', '▁asòfin', '▁tó', '▁wáyé', '▁ní', '▁apá', '▁ilà', '▁G', 'ú', 'sù', '▁ní', '▁ìpínlẹ̀', '▁K', 'ogi', '.', '▁The', '▁candid', 'ate', '▁of', '▁the', '▁All', '▁Progress', 'ives', '▁Congress', '▁(', 'AP', 'C', '),', '▁Sen', 'ator', '▁Smart', '▁Ade', 'y', 'emi', ',', '▁has', '▁won', '▁the', '▁K', 'ogi', '▁West', '▁sen', 'at', 'orial', '▁district', '▁election', '.', '▁Kù', 'kù', 'té', '▁kan', '▁kì', '▁í', '▁f', 'ọ́ni', '▁lé', 'po', '▁lẹ́ẹ̀mejì', '.', '▁No', '▁one', '▁st', 'ump', '▁can', '▁break', '▁one', \"'\", 's', '▁oil', '-', 'pot', '▁twice', '.', '▁T', 'all', ',', '▁tall', ',', '▁tall', 'ing', ',', '▁talking', ',', '▁tall', 'er', ',', '▁tall', 'est', ',', '▁speak', ',', '▁speaker', ',', '▁speaking', '▁È', 'è', 'kàn', '▁ẹgbẹ́', '▁Af', 'en', 'if', 'ere', '▁ilẹ̀', '▁Yoruba', ',', '▁Pa', '▁Ay', 'o', '▁Ade', 'ban', 'jo', '▁ti', '▁jáde', '▁láyé', '.', '▁Ní', '▁òwúrọ̀', '▁ọjọ́', ',', '▁Ẹ', 'tì', ',', '▁ọjọ́', '▁Kẹ', 'rìn', 'lá', ',', '▁ọdún', '▁202', '4', '▁ni', '▁Ade', 'ban', 'jo', '▁dá', 'gbé', 're', '▁fá', 'yé', '▁lẹ́ni', '▁ọdún', '▁mẹ́rìn', 'dínlọ́gọ́rùn', '-', 'ún', '▁(9', '6', ').', '▁Agb', 'ẹnusọ', '▁ẹgbẹ́', '▁Af', 'en', 'if', 'ere', ',', '▁J', 'are', '▁Aj', 'ayi', '▁ló', '▁fìdí', '▁ìròyìn', '▁náà', '▁múlẹ̀', '▁fún', '▁BBC', '▁News', '▁Yorùbá', '.', '▁Ilé', '▁rẹ̀', '▁tó', '▁wà', '▁ní', '▁agbègbè', '▁L', 'ek', 'ki', ',', '▁ìpínlẹ̀', '▁E', 'ko', '▁ni', '▁Ade', 'ban', 'jo', '▁dákẹ́', '▁sí', '.', '▁Pa', '▁Ade', 'ban', 'jo', '▁bẹ̀rẹ̀', '▁sí', '▁ní', '▁darí', '▁ẹgbẹ́', '▁Af', 'en', 'if', 'ere', '▁nígbà', '▁tí', '▁ààrẹ', '▁ẹgbẹ́', '▁náà', ',', '▁Bàbá', '▁F', 'as', 'oran', 'ti', '▁ní', '▁kí', '▁ó', '▁máa', '▁del', 'é', '▁fún', '▁òun', '▁látàrí', '▁ọjọ́', '▁orí', '▁òun', '.']\n",
      "Decoded Text: Mr. Bamgbose who stressed that as a member of the House, he has been able to also affect his constituents positively though various empowerment programmes, ranging from agriculture, crafts and many artisans within Badagry Federal Constituency. Mr. Bamgbose thanked Badagrians for giving him the opportunity to serve and promised to continue to deliver more dividends to his people. Olùdíje fún ipò asòfin àgbà nínú ẹgbẹ́, All Progressives Congress (APC),asòfin Smart Adeyemi,ni ó jáwé olúborí nínú ètò ìdìbò asòfin tó wáyé ní apá ilà Gúsù ní ìpínlẹ̀ Kogi. The candidate of the All Progressives Congress (APC), Senator Smart Adeyemi, has won the Kogi West senatorial district election. Kùkùté kan kì í fọ́ni lépo lẹ́ẹ̀mejì. No one stump can break one's oil-pot twice. Tall, tall, talling, talking, taller, tallest, speak, speaker, speaking Èèkàn ẹgbẹ́ Afenifere ilẹ̀ Yoruba, Pa Ayo Adebanjo ti jáde láyé. Ní òwúrọ̀ ọjọ́, Ẹtì, ọjọ́ Kẹrìnlá, ọdún 2024 ni Adebanjo dágbére fáyé lẹ́ni ọdún mẹ́rìndínlọ́gọ́rùn-ún (96). Agbẹnusọ ẹgbẹ́ Afenifere, Jare Ajayi ló fìdí ìròyìn náà múlẹ̀ fún BBC News Yorùbá. Ilé rẹ̀ tó wà ní agbègbè Lekki, ìpínlẹ̀ Eko ni Adebanjo dákẹ́ sí. Pa Adebanjo bẹ̀rẹ̀ sí ní darí ẹgbẹ́ Afenifere nígbà tí ààrẹ ẹgbẹ́ náà, Bàbá Fasoranti ní kí ó máa delé fún òun látàrí ọjọ́ orí òun.\n"
     ]
    }
   ],
   "source": [
    "# Load your trained tokenizer model\n",
    "tokenizer = spm.SentencePieceProcessor(model_file=\"/kaggle/working/yo_en_bpe.model\")\n",
    "\n",
    "# Test with a sample text\n",
    "sample_text = \"\"\"Mr. Bamgbose who stressed that as a member of the House, he has been able to also affect his constituents positively though various empowerment programmes, ranging from agriculture, crafts and many artisans within Badagry Federal Constituency. Mr. Bamgbose thanked Badagrians for giving him the opportunity to serve and promised to continue to deliver more dividends to his people.\\nOlùdíje fún ipò asòfin àgbà nínú ẹgbẹ́, All Progressives Congress (APC),asòfin  Smart Adeyemi,ni ó jáwé olúborí nínú ètò ìdìbò asòfin tó wáyé ní apá ilà Gúsù ní ìpínlẹ̀ Kogi.\\nThe candidate of the All Progressives Congress (APC), Senator Smart Adeyemi, has won the Kogi West senatorial district election.\\nKùkùté kan kì í fọ́ni lépo lẹ́ẹ̀mejì.\\nNo one stump can break one's oil-pot twice.\n",
    "Tall, tall, talling, talking, taller, tallest, speak, speaker, speaking\n",
    "Èèkàn ẹgbẹ́ Afenifere ilẹ̀ Yoruba, Pa Ayo Adebanjo ti jáde láyé.\n",
    "\n",
    "Ní òwúrọ̀ ọjọ́, Ẹtì, ọjọ́ Kẹrìnlá, ọdún 2024 ni Adebanjo dágbére fáyé lẹ́ni ọdún mẹ́rìndínlọ́gọ́rùn-ún (96).\n",
    "\n",
    "Agbẹnusọ ẹgbẹ́ Afenifere, Jare Ajayi ló fìdí ìròyìn náà múlẹ̀ fún BBC News Yorùbá.\n",
    "\n",
    "Ilé rẹ̀ tó wà ní agbègbè Lekki, ìpínlẹ̀ Eko ni Adebanjo dákẹ́ sí.\n",
    "\n",
    "Pa Adebanjo bẹ̀rẹ̀ sí ní darí ẹgbẹ́ Afenifere nígbà tí ààrẹ ẹgbẹ́ náà, Bàbá Fasoranti ní kí ó máa delé fún òun látàrí ọjọ́ orí òun.\n",
    "\"\"\"\n",
    "tokens = tokenizer.encode(sample_text, out_type=str)  # Get tokenized output (as subwords)\n",
    "print(\"Tokens:\", tokens)\n",
    "\n",
    "# Decode the tokens back to text\n",
    "decoded_text = tokenizer.decode(tokens, out_type=str)\n",
    "print(\"Decoded Text:\", decoded_text)"
   ]
  },
  {
   "cell_type": "code",
   "execution_count": 12,
   "id": "865cfb3d",
   "metadata": {
    "execution": {
     "iopub.execute_input": "2025-05-25T23:44:17.523477Z",
     "iopub.status.busy": "2025-05-25T23:44:17.523003Z",
     "iopub.status.idle": "2025-05-25T23:44:17.530838Z",
     "shell.execute_reply": "2025-05-25T23:44:17.529334Z"
    },
    "papermill": {
     "duration": 0.015006,
     "end_time": "2025-05-25T23:44:17.532645",
     "exception": false,
     "start_time": "2025-05-25T23:44:17.517639",
     "status": "completed"
    },
    "tags": []
   },
   "outputs": [
    {
     "name": "stdout",
     "output_type": "stream",
     "text": [
      "0\n",
      "1\n",
      "3\n",
      "2\n",
      "1\n",
      "30356\n"
     ]
    }
   ],
   "source": [
    "print(tokenizer.piece_to_id('<PAD>')) \n",
    "print(tokenizer.piece_to_id('<UNK>'))\n",
    "print(tokenizer.piece_to_id('<EOS>'))\n",
    "print(tokenizer.piece_to_id('<BOS>'))\n",
    "print(tokenizer.piece_to_id('</s>'))\n",
    "print(tokenizer.piece_to_id('#'))"
   ]
  }
 ],
 "metadata": {
  "kaggle": {
   "accelerator": "none",
   "dataSources": [
    {
     "datasetId": 2974749,
     "sourceId": 5121754,
     "sourceType": "datasetVersion"
    },
    {
     "datasetId": 6607180,
     "sourceId": 10668170,
     "sourceType": "datasetVersion"
    },
    {
     "datasetId": 7385320,
     "sourceId": 11763979,
     "sourceType": "datasetVersion"
    }
   ],
   "dockerImageVersionId": 30886,
   "isGpuEnabled": false,
   "isInternetEnabled": true,
   "language": "python",
   "sourceType": "notebook"
  },
  "kernelspec": {
   "display_name": "Python 3",
   "language": "python",
   "name": "python3"
  },
  "language_info": {
   "codemirror_mode": {
    "name": "ipython",
    "version": 3
   },
   "file_extension": ".py",
   "mimetype": "text/x-python",
   "name": "python",
   "nbconvert_exporter": "python",
   "pygments_lexer": "ipython3",
   "version": "3.10.12"
  },
  "papermill": {
   "default_parameters": {},
   "duration": 143.29552,
   "end_time": "2025-05-25T23:44:20.390350",
   "environment_variables": {},
   "exception": null,
   "input_path": "__notebook__.ipynb",
   "output_path": "__notebook__.ipynb",
   "parameters": {},
   "start_time": "2025-05-25T23:41:57.094830",
   "version": "2.6.0"
  }
 },
 "nbformat": 4,
 "nbformat_minor": 5
}
